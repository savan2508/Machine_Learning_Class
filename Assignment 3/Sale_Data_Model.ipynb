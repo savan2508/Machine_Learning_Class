{
 "cells": [
  {
   "cell_type": "code",
   "id": "initial_id",
   "metadata": {
    "collapsed": true,
    "ExecuteTime": {
     "end_time": "2024-06-10T02:55:29.985669Z",
     "start_time": "2024-06-10T02:55:29.909638Z"
    }
   },
   "source": [
    "# Load the data from the xlsx file \n",
    "import pandas as pd\n",
    "import numpy as np\n",
    "import matplotlib.pyplot as plt\n",
    "\n",
    "sales_data = pd.read_excel('Data/SalesData.xlsx')"
   ],
   "outputs": [],
   "execution_count": 31
  },
  {
   "metadata": {
    "ExecuteTime": {
     "end_time": "2024-06-10T02:55:30.331333Z",
     "start_time": "2024-06-10T02:55:30.299552Z"
    }
   },
   "cell_type": "code",
   "source": [
    "# Display the first 5 rows of the data and analyze the data\n",
    "sales_data.head()"
   ],
   "id": "5ec1dc579d8f1dc1",
   "outputs": [
    {
     "data": {
      "text/plain": [
       "  Transaction_Type  Tran_Date  Store_Num  Tran_Amt  Emp_Num Category  \\\n",
       "0         Purchase 2020-01-01        101      1.99      201     Misc   \n",
       "1         Purchase 2020-01-01        101     19.99      201  Grocery   \n",
       "2         Purchase 2020-01-01        101     99.99      201    Elect   \n",
       "3         Purchase 2020-01-01        101     45.12      201    Elect   \n",
       "4         Purchase 2020-01-01        101     32.35      201    Elect   \n",
       "\n",
       "   Num_Items  Satisfaction  \n",
       "0          1             2  \n",
       "1          2             1  \n",
       "2          3             1  \n",
       "3          7             1  \n",
       "4          8             5  "
      ],
      "text/html": [
       "<div>\n",
       "<style scoped>\n",
       "    .dataframe tbody tr th:only-of-type {\n",
       "        vertical-align: middle;\n",
       "    }\n",
       "\n",
       "    .dataframe tbody tr th {\n",
       "        vertical-align: top;\n",
       "    }\n",
       "\n",
       "    .dataframe thead th {\n",
       "        text-align: right;\n",
       "    }\n",
       "</style>\n",
       "<table border=\"1\" class=\"dataframe\">\n",
       "  <thead>\n",
       "    <tr style=\"text-align: right;\">\n",
       "      <th></th>\n",
       "      <th>Transaction_Type</th>\n",
       "      <th>Tran_Date</th>\n",
       "      <th>Store_Num</th>\n",
       "      <th>Tran_Amt</th>\n",
       "      <th>Emp_Num</th>\n",
       "      <th>Category</th>\n",
       "      <th>Num_Items</th>\n",
       "      <th>Satisfaction</th>\n",
       "    </tr>\n",
       "  </thead>\n",
       "  <tbody>\n",
       "    <tr>\n",
       "      <th>0</th>\n",
       "      <td>Purchase</td>\n",
       "      <td>2020-01-01</td>\n",
       "      <td>101</td>\n",
       "      <td>1.99</td>\n",
       "      <td>201</td>\n",
       "      <td>Misc</td>\n",
       "      <td>1</td>\n",
       "      <td>2</td>\n",
       "    </tr>\n",
       "    <tr>\n",
       "      <th>1</th>\n",
       "      <td>Purchase</td>\n",
       "      <td>2020-01-01</td>\n",
       "      <td>101</td>\n",
       "      <td>19.99</td>\n",
       "      <td>201</td>\n",
       "      <td>Grocery</td>\n",
       "      <td>2</td>\n",
       "      <td>1</td>\n",
       "    </tr>\n",
       "    <tr>\n",
       "      <th>2</th>\n",
       "      <td>Purchase</td>\n",
       "      <td>2020-01-01</td>\n",
       "      <td>101</td>\n",
       "      <td>99.99</td>\n",
       "      <td>201</td>\n",
       "      <td>Elect</td>\n",
       "      <td>3</td>\n",
       "      <td>1</td>\n",
       "    </tr>\n",
       "    <tr>\n",
       "      <th>3</th>\n",
       "      <td>Purchase</td>\n",
       "      <td>2020-01-01</td>\n",
       "      <td>101</td>\n",
       "      <td>45.12</td>\n",
       "      <td>201</td>\n",
       "      <td>Elect</td>\n",
       "      <td>7</td>\n",
       "      <td>1</td>\n",
       "    </tr>\n",
       "    <tr>\n",
       "      <th>4</th>\n",
       "      <td>Purchase</td>\n",
       "      <td>2020-01-01</td>\n",
       "      <td>101</td>\n",
       "      <td>32.35</td>\n",
       "      <td>201</td>\n",
       "      <td>Elect</td>\n",
       "      <td>8</td>\n",
       "      <td>5</td>\n",
       "    </tr>\n",
       "  </tbody>\n",
       "</table>\n",
       "</div>"
      ]
     },
     "execution_count": 32,
     "metadata": {},
     "output_type": "execute_result"
    }
   ],
   "execution_count": 32
  },
  {
   "metadata": {
    "ExecuteTime": {
     "end_time": "2024-06-10T02:55:31.552234Z",
     "start_time": "2024-06-10T02:55:31.512325Z"
    }
   },
   "cell_type": "code",
   "source": "sales_data.describe()",
   "id": "e41fc86fab3daea",
   "outputs": [
    {
     "data": {
      "text/plain": [
       "                           Tran_Date   Store_Num    Tran_Amt     Emp_Num  \\\n",
       "count                            282  282.000000  282.000000  282.000000   \n",
       "mean   2020-01-02 07:29:21.702127616  101.500000  107.363085  253.790780   \n",
       "min              2020-01-01 00:00:00  101.000000    0.790000  201.000000   \n",
       "25%              2020-01-02 00:00:00  101.000000   33.000000  203.000000   \n",
       "50%              2020-01-03 00:00:00  101.500000   98.000000  253.000000   \n",
       "75%              2020-01-03 00:00:00  102.000000  174.000000  305.000000   \n",
       "max              2020-01-03 00:00:00  102.000000  351.190000  309.000000   \n",
       "std                              NaN    0.500889   81.831790   51.151462   \n",
       "\n",
       "        Num_Items  Satisfaction  \n",
       "count  282.000000    282.000000  \n",
       "mean     9.684397      2.968085  \n",
       "min      1.000000      1.000000  \n",
       "25%      4.000000      2.000000  \n",
       "50%      7.000000      3.000000  \n",
       "75%     10.000000      4.000000  \n",
       "max     70.000000      5.000000  \n",
       "std      9.346419      1.427629  "
      ],
      "text/html": [
       "<div>\n",
       "<style scoped>\n",
       "    .dataframe tbody tr th:only-of-type {\n",
       "        vertical-align: middle;\n",
       "    }\n",
       "\n",
       "    .dataframe tbody tr th {\n",
       "        vertical-align: top;\n",
       "    }\n",
       "\n",
       "    .dataframe thead th {\n",
       "        text-align: right;\n",
       "    }\n",
       "</style>\n",
       "<table border=\"1\" class=\"dataframe\">\n",
       "  <thead>\n",
       "    <tr style=\"text-align: right;\">\n",
       "      <th></th>\n",
       "      <th>Tran_Date</th>\n",
       "      <th>Store_Num</th>\n",
       "      <th>Tran_Amt</th>\n",
       "      <th>Emp_Num</th>\n",
       "      <th>Num_Items</th>\n",
       "      <th>Satisfaction</th>\n",
       "    </tr>\n",
       "  </thead>\n",
       "  <tbody>\n",
       "    <tr>\n",
       "      <th>count</th>\n",
       "      <td>282</td>\n",
       "      <td>282.000000</td>\n",
       "      <td>282.000000</td>\n",
       "      <td>282.000000</td>\n",
       "      <td>282.000000</td>\n",
       "      <td>282.000000</td>\n",
       "    </tr>\n",
       "    <tr>\n",
       "      <th>mean</th>\n",
       "      <td>2020-01-02 07:29:21.702127616</td>\n",
       "      <td>101.500000</td>\n",
       "      <td>107.363085</td>\n",
       "      <td>253.790780</td>\n",
       "      <td>9.684397</td>\n",
       "      <td>2.968085</td>\n",
       "    </tr>\n",
       "    <tr>\n",
       "      <th>min</th>\n",
       "      <td>2020-01-01 00:00:00</td>\n",
       "      <td>101.000000</td>\n",
       "      <td>0.790000</td>\n",
       "      <td>201.000000</td>\n",
       "      <td>1.000000</td>\n",
       "      <td>1.000000</td>\n",
       "    </tr>\n",
       "    <tr>\n",
       "      <th>25%</th>\n",
       "      <td>2020-01-02 00:00:00</td>\n",
       "      <td>101.000000</td>\n",
       "      <td>33.000000</td>\n",
       "      <td>203.000000</td>\n",
       "      <td>4.000000</td>\n",
       "      <td>2.000000</td>\n",
       "    </tr>\n",
       "    <tr>\n",
       "      <th>50%</th>\n",
       "      <td>2020-01-03 00:00:00</td>\n",
       "      <td>101.500000</td>\n",
       "      <td>98.000000</td>\n",
       "      <td>253.000000</td>\n",
       "      <td>7.000000</td>\n",
       "      <td>3.000000</td>\n",
       "    </tr>\n",
       "    <tr>\n",
       "      <th>75%</th>\n",
       "      <td>2020-01-03 00:00:00</td>\n",
       "      <td>102.000000</td>\n",
       "      <td>174.000000</td>\n",
       "      <td>305.000000</td>\n",
       "      <td>10.000000</td>\n",
       "      <td>4.000000</td>\n",
       "    </tr>\n",
       "    <tr>\n",
       "      <th>max</th>\n",
       "      <td>2020-01-03 00:00:00</td>\n",
       "      <td>102.000000</td>\n",
       "      <td>351.190000</td>\n",
       "      <td>309.000000</td>\n",
       "      <td>70.000000</td>\n",
       "      <td>5.000000</td>\n",
       "    </tr>\n",
       "    <tr>\n",
       "      <th>std</th>\n",
       "      <td>NaN</td>\n",
       "      <td>0.500889</td>\n",
       "      <td>81.831790</td>\n",
       "      <td>51.151462</td>\n",
       "      <td>9.346419</td>\n",
       "      <td>1.427629</td>\n",
       "    </tr>\n",
       "  </tbody>\n",
       "</table>\n",
       "</div>"
      ]
     },
     "execution_count": 33,
     "metadata": {},
     "output_type": "execute_result"
    }
   ],
   "execution_count": 33
  },
  {
   "metadata": {
    "ExecuteTime": {
     "end_time": "2024-06-10T02:55:32.413026Z",
     "start_time": "2024-06-10T02:55:32.396309Z"
    }
   },
   "cell_type": "code",
   "source": "sales_data.info()",
   "id": "ff700bc65efeb461",
   "outputs": [
    {
     "name": "stdout",
     "output_type": "stream",
     "text": [
      "<class 'pandas.core.frame.DataFrame'>\n",
      "RangeIndex: 282 entries, 0 to 281\n",
      "Data columns (total 8 columns):\n",
      " #   Column            Non-Null Count  Dtype         \n",
      "---  ------            --------------  -----         \n",
      " 0   Transaction_Type  282 non-null    object        \n",
      " 1   Tran_Date         282 non-null    datetime64[ns]\n",
      " 2   Store_Num         282 non-null    int64         \n",
      " 3   Tran_Amt          282 non-null    float64       \n",
      " 4   Emp_Num           282 non-null    int64         \n",
      " 5   Category          282 non-null    object        \n",
      " 6   Num_Items         282 non-null    int64         \n",
      " 7   Satisfaction      282 non-null    int64         \n",
      "dtypes: datetime64[ns](1), float64(1), int64(4), object(2)\n",
      "memory usage: 17.8+ KB\n"
     ]
    }
   ],
   "execution_count": 34
  },
  {
   "metadata": {
    "ExecuteTime": {
     "end_time": "2024-06-10T02:55:33.129872Z",
     "start_time": "2024-06-10T02:55:33.112291Z"
    }
   },
   "cell_type": "code",
   "source": "sales_data['Transaction_Type'].value_counts()",
   "id": "707d9094aae3f8f1",
   "outputs": [
    {
     "data": {
      "text/plain": [
       "Transaction_Type\n",
       "Purchase    248\n",
       "Return       34\n",
       "Name: count, dtype: int64"
      ]
     },
     "execution_count": 35,
     "metadata": {},
     "output_type": "execute_result"
    }
   ],
   "execution_count": 35
  },
  {
   "metadata": {
    "ExecuteTime": {
     "end_time": "2024-06-10T02:55:33.878501Z",
     "start_time": "2024-06-10T02:55:33.863612Z"
    }
   },
   "cell_type": "code",
   "source": "sales_data['Store_Num'].value_counts()",
   "id": "cfa390846c300303",
   "outputs": [
    {
     "data": {
      "text/plain": [
       "Store_Num\n",
       "101    141\n",
       "102    141\n",
       "Name: count, dtype: int64"
      ]
     },
     "execution_count": 36,
     "metadata": {},
     "output_type": "execute_result"
    }
   ],
   "execution_count": 36
  },
  {
   "metadata": {
    "ExecuteTime": {
     "end_time": "2024-06-10T02:55:34.400030Z",
     "start_time": "2024-06-10T02:55:34.383471Z"
    }
   },
   "cell_type": "code",
   "source": "sales_data['Emp_Num'].value_counts()",
   "id": "462ef3a8500ca3a6",
   "outputs": [
    {
     "data": {
      "text/plain": [
       "Emp_Num\n",
       "201    53\n",
       "205    34\n",
       "204    23\n",
       "303    21\n",
       "306    19\n",
       "301    18\n",
       "202    17\n",
       "304    17\n",
       "305    17\n",
       "308    15\n",
       "203    14\n",
       "307    13\n",
       "309    11\n",
       "302    10\n",
       "Name: count, dtype: int64"
      ]
     },
     "execution_count": 37,
     "metadata": {},
     "output_type": "execute_result"
    }
   ],
   "execution_count": 37
  },
  {
   "metadata": {
    "ExecuteTime": {
     "end_time": "2024-06-10T02:55:34.905616Z",
     "start_time": "2024-06-10T02:55:34.886581Z"
    }
   },
   "cell_type": "code",
   "source": "sales_data['Category'].value_counts()",
   "id": "f13c22cdb9d743a",
   "outputs": [
    {
     "data": {
      "text/plain": [
       "Category\n",
       "Grocery    160\n",
       "Misc        59\n",
       "Beauty      39\n",
       "Elect       24\n",
       "Name: count, dtype: int64"
      ]
     },
     "execution_count": 38,
     "metadata": {},
     "output_type": "execute_result"
    }
   ],
   "execution_count": 38
  },
  {
   "metadata": {
    "ExecuteTime": {
     "end_time": "2024-06-10T02:55:35.477695Z",
     "start_time": "2024-06-10T02:55:35.456704Z"
    }
   },
   "cell_type": "code",
   "source": [
    "# Split the data into training and testing data\n",
    "from sklearn.model_selection import train_test_split\n",
    "train_data, test_data = train_test_split(sales_data, test_size=0.2, random_state=42)"
   ],
   "id": "f9a82d14e1f529e9",
   "outputs": [],
   "execution_count": 39
  },
  {
   "metadata": {
    "ExecuteTime": {
     "end_time": "2024-06-10T02:55:36.149098Z",
     "start_time": "2024-06-10T02:55:36.137856Z"
    }
   },
   "cell_type": "code",
   "source": [
    "# copy the training data to a sales_data variable\n",
    "sales_data = train_data.copy()"
   ],
   "id": "bae11f8b628126e9",
   "outputs": [],
   "execution_count": 40
  },
  {
   "metadata": {
    "ExecuteTime": {
     "end_time": "2024-06-10T02:55:37.774722Z",
     "start_time": "2024-06-10T02:55:36.533959Z"
    }
   },
   "cell_type": "code",
   "source": [
    "# show the histogram of the data\n",
    "sales_data.hist(bins=50, figsize=(20,15))"
   ],
   "id": "991aaf559af4af90",
   "outputs": [
    {
     "data": {
      "text/plain": [
       "array([[<Axes: title={'center': 'Tran_Date'}>,\n",
       "        <Axes: title={'center': 'Store_Num'}>],\n",
       "       [<Axes: title={'center': 'Tran_Amt'}>,\n",
       "        <Axes: title={'center': 'Emp_Num'}>],\n",
       "       [<Axes: title={'center': 'Num_Items'}>,\n",
       "        <Axes: title={'center': 'Satisfaction'}>]], dtype=object)"
      ]
     },
     "execution_count": 41,
     "metadata": {},
     "output_type": "execute_result"
    },
    {
     "data": {
      "text/plain": [
       "<Figure size 2000x1500 with 6 Axes>"
      ],
      "image/png": "[encoded data removed]"
     },
     "metadata": {},
     "output_type": "display_data"
    }
   ],
   "execution_count": 41
  },
  {
   "metadata": {
    "ExecuteTime": {
     "end_time": "2024-06-10T02:55:39.954905Z",
     "start_time": "2024-06-10T02:55:39.942844Z"
    }
   },
   "cell_type": "code",
   "source": [
    "# Find the correlation between the data with the transaction amount\n",
    "corr_matrix = sales_data.drop(['Transaction_Type', 'Category', 'Tran_Date'], axis=1).corr()"
   ],
   "id": "8c07a24ca48676f3",
   "outputs": [],
   "execution_count": 42
  },
  {
   "metadata": {
    "ExecuteTime": {
     "end_time": "2024-06-10T02:55:41.134746Z",
     "start_time": "2024-06-10T02:55:41.116462Z"
    }
   },
   "cell_type": "code",
   "source": "corr_matrix",
   "id": "cb73c82a2f53904f",
   "outputs": [
    {
     "data": {
      "text/plain": [
       "              Store_Num  Tran_Amt   Emp_Num  Num_Items  Satisfaction\n",
       "Store_Num      1.000000  0.035710  0.999127  -0.466388      0.066774\n",
       "Tran_Amt       0.035710  1.000000  0.036385   0.174723     -0.058062\n",
       "Emp_Num        0.999127  0.036385  1.000000  -0.461886      0.069632\n",
       "Num_Items     -0.466388  0.174723 -0.461886   1.000000      0.045340\n",
       "Satisfaction   0.066774 -0.058062  0.069632   0.045340      1.000000"
      ],
      "text/html": [
       "<div>\n",
       "<style scoped>\n",
       "    .dataframe tbody tr th:only-of-type {\n",
       "        vertical-align: middle;\n",
       "    }\n",
       "\n",
       "    .dataframe tbody tr th {\n",
       "        vertical-align: top;\n",
       "    }\n",
       "\n",
       "    .dataframe thead th {\n",
       "        text-align: right;\n",
       "    }\n",
       "</style>\n",
       "<table border=\"1\" class=\"dataframe\">\n",
       "  <thead>\n",
       "    <tr style=\"text-align: right;\">\n",
       "      <th></th>\n",
       "      <th>Store_Num</th>\n",
       "      <th>Tran_Amt</th>\n",
       "      <th>Emp_Num</th>\n",
       "      <th>Num_Items</th>\n",
       "      <th>Satisfaction</th>\n",
       "    </tr>\n",
       "  </thead>\n",
       "  <tbody>\n",
       "    <tr>\n",
       "      <th>Store_Num</th>\n",
       "      <td>1.000000</td>\n",
       "      <td>0.035710</td>\n",
       "      <td>0.999127</td>\n",
       "      <td>-0.466388</td>\n",
       "      <td>0.066774</td>\n",
       "    </tr>\n",
       "    <tr>\n",
       "      <th>Tran_Amt</th>\n",
       "      <td>0.035710</td>\n",
       "      <td>1.000000</td>\n",
       "      <td>0.036385</td>\n",
       "      <td>0.174723</td>\n",
       "      <td>-0.058062</td>\n",
       "    </tr>\n",
       "    <tr>\n",
       "      <th>Emp_Num</th>\n",
       "      <td>0.999127</td>\n",
       "      <td>0.036385</td>\n",
       "      <td>1.000000</td>\n",
       "      <td>-0.461886</td>\n",
       "      <td>0.069632</td>\n",
       "    </tr>\n",
       "    <tr>\n",
       "      <th>Num_Items</th>\n",
       "      <td>-0.466388</td>\n",
       "      <td>0.174723</td>\n",
       "      <td>-0.461886</td>\n",
       "      <td>1.000000</td>\n",
       "      <td>0.045340</td>\n",
       "    </tr>\n",
       "    <tr>\n",
       "      <th>Satisfaction</th>\n",
       "      <td>0.066774</td>\n",
       "      <td>-0.058062</td>\n",
       "      <td>0.069632</td>\n",
       "      <td>0.045340</td>\n",
       "      <td>1.000000</td>\n",
       "    </tr>\n",
       "  </tbody>\n",
       "</table>\n",
       "</div>"
      ]
     },
     "execution_count": 43,
     "metadata": {},
     "output_type": "execute_result"
    }
   ],
   "execution_count": 43
  },
  {
   "metadata": {},
   "cell_type": "markdown",
   "source": "As see per the correlation matrix, the transaction amount is highly correlated with the quantity of the product and the price of the product. The transaction amount is also correlated with the store number and the employee number. The store number and the employee number are not correlated with the price of the product.",
   "id": "47ad733c17c9d8fe"
  },
  {
   "metadata": {
    "ExecuteTime": {
     "end_time": "2024-06-10T02:55:43.638048Z",
     "start_time": "2024-06-10T02:55:43.629999Z"
    }
   },
   "cell_type": "code",
   "source": [
    "# Add field weekday to the data from the transaction date to find correlation with the transaction amount\n",
    "sales_data['Weekday'] = sales_data['Tran_Date'].dt.dayofweek"
   ],
   "id": "d2113ee1e0aa90df",
   "outputs": [],
   "execution_count": 44
  },
  {
   "metadata": {
    "ExecuteTime": {
     "end_time": "2024-06-10T02:55:44.652201Z",
     "start_time": "2024-06-10T02:55:44.632652Z"
    }
   },
   "cell_type": "code",
   "source": "sales_data['Weekday'].value_counts()",
   "id": "54a038e522686f2b",
   "outputs": [
    {
     "data": {
      "text/plain": [
       "Weekday\n",
       "4    114\n",
       "3     62\n",
       "2     49\n",
       "Name: count, dtype: int64"
      ]
     },
     "execution_count": 45,
     "metadata": {},
     "output_type": "execute_result"
    }
   ],
   "execution_count": 45
  },
  {
   "metadata": {
    "ExecuteTime": {
     "end_time": "2024-06-10T02:55:45.348098Z",
     "start_time": "2024-06-10T02:55:45.332744Z"
    }
   },
   "cell_type": "code",
   "source": [
    "# Find the correlation between the weekday and the transaction amount\n",
    "corr_matrix = sales_data.drop(['Transaction_Type', 'Category', 'Tran_Date'], axis=1).corr()"
   ],
   "id": "7267a77cfefde549",
   "outputs": [],
   "execution_count": 46
  },
  {
   "metadata": {
    "ExecuteTime": {
     "end_time": "2024-06-10T02:55:46.338201Z",
     "start_time": "2024-06-10T02:55:46.320135Z"
    }
   },
   "cell_type": "code",
   "source": "corr_matrix",
   "id": "a593908822d2692f",
   "outputs": [
    {
     "data": {
      "text/plain": [
       "              Store_Num  Tran_Amt   Emp_Num  Num_Items  Satisfaction   Weekday\n",
       "Store_Num      1.000000  0.035710  0.999127  -0.466388      0.066774 -0.030848\n",
       "Tran_Amt       0.035710  1.000000  0.036385   0.174723     -0.058062  0.286202\n",
       "Emp_Num        0.999127  0.036385  1.000000  -0.461886      0.069632 -0.025746\n",
       "Num_Items     -0.466388  0.174723 -0.461886   1.000000      0.045340  0.285360\n",
       "Satisfaction   0.066774 -0.058062  0.069632   0.045340      1.000000 -0.003674\n",
       "Weekday       -0.030848  0.286202 -0.025746   0.285360     -0.003674  1.000000"
      ],
      "text/html": [
       "<div>\n",
       "<style scoped>\n",
       "    .dataframe tbody tr th:only-of-type {\n",
       "        vertical-align: middle;\n",
       "    }\n",
       "\n",
       "    .dataframe tbody tr th {\n",
       "        vertical-align: top;\n",
       "    }\n",
       "\n",
       "    .dataframe thead th {\n",
       "        text-align: right;\n",
       "    }\n",
       "</style>\n",
       "<table border=\"1\" class=\"dataframe\">\n",
       "  <thead>\n",
       "    <tr style=\"text-align: right;\">\n",
       "      <th></th>\n",
       "      <th>Store_Num</th>\n",
       "      <th>Tran_Amt</th>\n",
       "      <th>Emp_Num</th>\n",
       "      <th>Num_Items</th>\n",
       "      <th>Satisfaction</th>\n",
       "      <th>Weekday</th>\n",
       "    </tr>\n",
       "  </thead>\n",
       "  <tbody>\n",
       "    <tr>\n",
       "      <th>Store_Num</th>\n",
       "      <td>1.000000</td>\n",
       "      <td>0.035710</td>\n",
       "      <td>0.999127</td>\n",
       "      <td>-0.466388</td>\n",
       "      <td>0.066774</td>\n",
       "      <td>-0.030848</td>\n",
       "    </tr>\n",
       "    <tr>\n",
       "      <th>Tran_Amt</th>\n",
       "      <td>0.035710</td>\n",
       "      <td>1.000000</td>\n",
       "      <td>0.036385</td>\n",
       "      <td>0.174723</td>\n",
       "      <td>-0.058062</td>\n",
       "      <td>0.286202</td>\n",
       "    </tr>\n",
       "    <tr>\n",
       "      <th>Emp_Num</th>\n",
       "      <td>0.999127</td>\n",
       "      <td>0.036385</td>\n",
       "      <td>1.000000</td>\n",
       "      <td>-0.461886</td>\n",
       "      <td>0.069632</td>\n",
       "      <td>-0.025746</td>\n",
       "    </tr>\n",
       "    <tr>\n",
       "      <th>Num_Items</th>\n",
       "      <td>-0.466388</td>\n",
       "      <td>0.174723</td>\n",
       "      <td>-0.461886</td>\n",
       "      <td>1.000000</td>\n",
       "      <td>0.045340</td>\n",
       "      <td>0.285360</td>\n",
       "    </tr>\n",
       "    <tr>\n",
       "      <th>Satisfaction</th>\n",
       "      <td>0.066774</td>\n",
       "      <td>-0.058062</td>\n",
       "      <td>0.069632</td>\n",
       "      <td>0.045340</td>\n",
       "      <td>1.000000</td>\n",
       "      <td>-0.003674</td>\n",
       "    </tr>\n",
       "    <tr>\n",
       "      <th>Weekday</th>\n",
       "      <td>-0.030848</td>\n",
       "      <td>0.286202</td>\n",
       "      <td>-0.025746</td>\n",
       "      <td>0.285360</td>\n",
       "      <td>-0.003674</td>\n",
       "      <td>1.000000</td>\n",
       "    </tr>\n",
       "  </tbody>\n",
       "</table>\n",
       "</div>"
      ]
     },
     "execution_count": 47,
     "metadata": {},
     "output_type": "execute_result"
    }
   ],
   "execution_count": 47
  },
  {
   "metadata": {
    "ExecuteTime": {
     "end_time": "2024-06-10T02:55:47.447342Z",
     "start_time": "2024-06-10T02:55:47.435487Z"
    }
   },
   "cell_type": "code",
   "source": [
    "# Find any missing values in the data\n",
    "sales_data.isnull().sum()"
   ],
   "id": "db48280037107445",
   "outputs": [
    {
     "data": {
      "text/plain": [
       "Transaction_Type    0\n",
       "Tran_Date           0\n",
       "Store_Num           0\n",
       "Tran_Amt            0\n",
       "Emp_Num             0\n",
       "Category            0\n",
       "Num_Items           0\n",
       "Satisfaction        0\n",
       "Weekday             0\n",
       "dtype: int64"
      ]
     },
     "execution_count": 48,
     "metadata": {},
     "output_type": "execute_result"
    }
   ],
   "execution_count": 48
  },
  {
   "metadata": {},
   "cell_type": "markdown",
   "source": "There are no missing values in the training data so we can proceed with the data preparation.",
   "id": "ff07439bd23e68ba"
  },
  {
   "metadata": {
    "ExecuteTime": {
     "end_time": "2024-06-10T02:55:51.046547Z",
     "start_time": "2024-06-10T02:55:51.027905Z"
    }
   },
   "cell_type": "code",
   "source": [
    "# Prepare the data for the model\n",
    "# Perform one hot encoding on the transaction type and the category\n",
    "from sklearn.preprocessing import OneHotEncoder\n",
    "encoder = OneHotEncoder()\n",
    "transaction_type_1hot = encoder.fit_transform(sales_data[['Transaction_Type']])\n",
    "category_1hot = encoder.fit_transform(sales_data[['Category']])"
   ],
   "id": "1e51a7bea481f442",
   "outputs": [],
   "execution_count": 49
  },
  {
   "metadata": {
    "ExecuteTime": {
     "end_time": "2024-06-10T02:55:51.716650Z",
     "start_time": "2024-06-10T02:55:51.709937Z"
    }
   },
   "cell_type": "code",
   "source": "transaction_type_1hot",
   "id": "81062aa5d998a77a",
   "outputs": [
    {
     "data": {
      "text/plain": [
       "<225x2 sparse matrix of type '<class 'numpy.float64'>'\n",
       "\twith 225 stored elements in Compressed Sparse Row format>"
      ]
     },
     "execution_count": 50,
     "metadata": {},
     "output_type": "execute_result"
    }
   ],
   "execution_count": 50
  },
  {
   "metadata": {
    "ExecuteTime": {
     "end_time": "2024-06-10T02:55:52.133295Z",
     "start_time": "2024-06-10T02:55:52.125974Z"
    }
   },
   "cell_type": "code",
   "source": "category_1hot",
   "id": "1a635d6ca5d746a4",
   "outputs": [
    {
     "data": {
      "text/plain": [
       "<225x4 sparse matrix of type '<class 'numpy.float64'>'\n",
       "\twith 225 stored elements in Compressed Sparse Row format>"
      ]
     },
     "execution_count": 51,
     "metadata": {},
     "output_type": "execute_result"
    }
   ],
   "execution_count": 51
  },
  {
   "metadata": {
    "ExecuteTime": {
     "end_time": "2024-06-10T02:53:43.520891Z",
     "start_time": "2024-06-10T02:53:43.493246Z"
    }
   },
   "cell_type": "code",
   "source": "",
   "id": "c539f46d37becac6",
   "outputs": [],
   "execution_count": 29
  },
  {
   "metadata": {
    "ExecuteTime": {
     "end_time": "2024-06-10T02:55:55.702343Z",
     "start_time": "2024-06-10T02:55:55.670680Z"
    }
   },
   "cell_type": "code",
   "source": [
    "\n",
    "sales_data"
   ],
   "id": "1a6078104719d7b8",
   "outputs": [
    {
     "data": {
      "text/plain": [
       "    Transaction_Type  Tran_Date  Store_Num  Tran_Amt  Emp_Num Category  \\\n",
       "139           Return 2020-01-03        101    237.00      205     Misc   \n",
       "193         Purchase 2020-01-02        102     20.00      303  Grocery   \n",
       "19            Return 2020-01-01        101      1.99      205     Misc   \n",
       "159         Purchase 2020-01-01        102    133.00      304  Grocery   \n",
       "140           Return 2020-01-03        101    276.00      205  Grocery   \n",
       "..               ...        ...        ...       ...      ...      ...   \n",
       "188         Purchase 2020-01-02        102     96.00      303  Grocery   \n",
       "71          Purchase 2020-01-03        101     30.00      204  Grocery   \n",
       "106         Purchase 2020-01-03        101    169.00      201     Misc   \n",
       "270         Purchase 2020-01-03        102    153.00      309  Grocery   \n",
       "102         Purchase 2020-01-03        101     74.00      205   Beauty   \n",
       "\n",
       "     Num_Items  Satisfaction  Weekday  \n",
       "139         28             4        4  \n",
       "193          3             5        3  \n",
       "19           1             1        2  \n",
       "159          4             1        2  \n",
       "140         25             1        4  \n",
       "..         ...           ...      ...  \n",
       "188          9             2        3  \n",
       "71          10             2        4  \n",
       "106         28             5        4  \n",
       "270          1             4        4  \n",
       "102         10             2        4  \n",
       "\n",
       "[225 rows x 9 columns]"
      ],
      "text/html": [
       "<div>\n",
       "<style scoped>\n",
       "    .dataframe tbody tr th:only-of-type {\n",
       "        vertical-align: middle;\n",
       "    }\n",
       "\n",
       "    .dataframe tbody tr th {\n",
       "        vertical-align: top;\n",
       "    }\n",
       "\n",
       "    .dataframe thead th {\n",
       "        text-align: right;\n",
       "    }\n",
       "</style>\n",
       "<table border=\"1\" class=\"dataframe\">\n",
       "  <thead>\n",
       "    <tr style=\"text-align: right;\">\n",
       "      <th></th>\n",
       "      <th>Transaction_Type</th>\n",
       "      <th>Tran_Date</th>\n",
       "      <th>Store_Num</th>\n",
       "      <th>Tran_Amt</th>\n",
       "      <th>Emp_Num</th>\n",
       "      <th>Category</th>\n",
       "      <th>Num_Items</th>\n",
       "      <th>Satisfaction</th>\n",
       "      <th>Weekday</th>\n",
       "    </tr>\n",
       "  </thead>\n",
       "  <tbody>\n",
       "    <tr>\n",
       "      <th>139</th>\n",
       "      <td>Return</td>\n",
       "      <td>2020-01-03</td>\n",
       "      <td>101</td>\n",
       "      <td>237.00</td>\n",
       "      <td>205</td>\n",
       "      <td>Misc</td>\n",
       "      <td>28</td>\n",
       "      <td>4</td>\n",
       "      <td>4</td>\n",
       "    </tr>\n",
       "    <tr>\n",
       "      <th>193</th>\n",
       "      <td>Purchase</td>\n",
       "      <td>2020-01-02</td>\n",
       "      <td>102</td>\n",
       "      <td>20.00</td>\n",
       "      <td>303</td>\n",
       "      <td>Grocery</td>\n",
       "      <td>3</td>\n",
       "      <td>5</td>\n",
       "      <td>3</td>\n",
       "    </tr>\n",
       "    <tr>\n",
       "      <th>19</th>\n",
       "      <td>Return</td>\n",
       "      <td>2020-01-01</td>\n",
       "      <td>101</td>\n",
       "      <td>1.99</td>\n",
       "      <td>205</td>\n",
       "      <td>Misc</td>\n",
       "      <td>1</td>\n",
       "      <td>1</td>\n",
       "      <td>2</td>\n",
       "    </tr>\n",
       "    <tr>\n",
       "      <th>159</th>\n",
       "      <td>Purchase</td>\n",
       "      <td>2020-01-01</td>\n",
       "      <td>102</td>\n",
       "      <td>133.00</td>\n",
       "      <td>304</td>\n",
       "      <td>Grocery</td>\n",
       "      <td>4</td>\n",
       "      <td>1</td>\n",
       "      <td>2</td>\n",
       "    </tr>\n",
       "    <tr>\n",
       "      <th>140</th>\n",
       "      <td>Return</td>\n",
       "      <td>2020-01-03</td>\n",
       "      <td>101</td>\n",
       "      <td>276.00</td>\n",
       "      <td>205</td>\n",
       "      <td>Grocery</td>\n",
       "      <td>25</td>\n",
       "      <td>1</td>\n",
       "      <td>4</td>\n",
       "    </tr>\n",
       "    <tr>\n",
       "      <th>...</th>\n",
       "      <td>...</td>\n",
       "      <td>...</td>\n",
       "      <td>...</td>\n",
       "      <td>...</td>\n",
       "      <td>...</td>\n",
       "      <td>...</td>\n",
       "      <td>...</td>\n",
       "      <td>...</td>\n",
       "      <td>...</td>\n",
       "    </tr>\n",
       "    <tr>\n",
       "      <th>188</th>\n",
       "      <td>Purchase</td>\n",
       "      <td>2020-01-02</td>\n",
       "      <td>102</td>\n",
       "      <td>96.00</td>\n",
       "      <td>303</td>\n",
       "      <td>Grocery</td>\n",
       "      <td>9</td>\n",
       "      <td>2</td>\n",
       "      <td>3</td>\n",
       "    </tr>\n",
       "    <tr>\n",
       "      <th>71</th>\n",
       "      <td>Purchase</td>\n",
       "      <td>2020-01-03</td>\n",
       "      <td>101</td>\n",
       "      <td>30.00</td>\n",
       "      <td>204</td>\n",
       "      <td>Grocery</td>\n",
       "      <td>10</td>\n",
       "      <td>2</td>\n",
       "      <td>4</td>\n",
       "    </tr>\n",
       "    <tr>\n",
       "      <th>106</th>\n",
       "      <td>Purchase</td>\n",
       "      <td>2020-01-03</td>\n",
       "      <td>101</td>\n",
       "      <td>169.00</td>\n",
       "      <td>201</td>\n",
       "      <td>Misc</td>\n",
       "      <td>28</td>\n",
       "      <td>5</td>\n",
       "      <td>4</td>\n",
       "    </tr>\n",
       "    <tr>\n",
       "      <th>270</th>\n",
       "      <td>Purchase</td>\n",
       "      <td>2020-01-03</td>\n",
       "      <td>102</td>\n",
       "      <td>153.00</td>\n",
       "      <td>309</td>\n",
       "      <td>Grocery</td>\n",
       "      <td>1</td>\n",
       "      <td>4</td>\n",
       "      <td>4</td>\n",
       "    </tr>\n",
       "    <tr>\n",
       "      <th>102</th>\n",
       "      <td>Purchase</td>\n",
       "      <td>2020-01-03</td>\n",
       "      <td>101</td>\n",
       "      <td>74.00</td>\n",
       "      <td>205</td>\n",
       "      <td>Beauty</td>\n",
       "      <td>10</td>\n",
       "      <td>2</td>\n",
       "      <td>4</td>\n",
       "    </tr>\n",
       "  </tbody>\n",
       "</table>\n",
       "<p>225 rows × 9 columns</p>\n",
       "</div>"
      ]
     },
     "execution_count": 52,
     "metadata": {},
     "output_type": "execute_result"
    }
   ],
   "execution_count": 52
  },
  {
   "metadata": {},
   "cell_type": "markdown",
   "source": "The above-mentioned code is to follow the book models, which can not be applied to get a meaningful insight from the date, so the remaining code will be different from the book.",
   "id": "394f184729e91424"
  },
  {
   "metadata": {
    "ExecuteTime": {
     "end_time": "2024-06-10T03:33:31.009738Z",
     "start_time": "2024-06-10T03:33:30.918277Z"
    }
   },
   "cell_type": "code",
   "source": [
    "# Get the data in the row form again\n",
    "sales_data = pd.read_excel('Data/SalesData.xlsx')"
   ],
   "id": "e370f922c119a063",
   "outputs": [],
   "execution_count": 53
  },
  {
   "metadata": {
    "ExecuteTime": {
     "end_time": "2024-06-10T03:33:51.762793Z",
     "start_time": "2024-06-10T03:33:51.750808Z"
    }
   },
   "cell_type": "code",
   "source": [
    "# Convert Tran_Date to datetime format\n",
    "sales_data['Tran_Date'] = pd.to_datetime(sales_data['Tran_Date'])"
   ],
   "id": "41ecca9888039294",
   "outputs": [],
   "execution_count": 54
  },
  {
   "metadata": {
    "ExecuteTime": {
     "end_time": "2024-06-10T03:34:30.403084Z",
     "start_time": "2024-06-10T03:34:30.395479Z"
    }
   },
   "cell_type": "code",
   "source": [
    "# Feature Engineering: extract the day, month, year, and weekday from the Tran_Date\n",
    "sales_data['Day'] = sales_data['Tran_Date'].dt.day\n",
    "sales_data['Month'] = sales_data['Tran_Date'].dt.month\n",
    "sales_data['Day_of_Week'] = sales_data['Tran_Date'].dt.dayofweek"
   ],
   "id": "34aec5706ccca0ae",
   "outputs": [],
   "execution_count": 55
  },
  {
   "metadata": {
    "ExecuteTime": {
     "end_time": "2024-06-10T03:42:18.929177Z",
     "start_time": "2024-06-10T03:42:18.922061Z"
    }
   },
   "cell_type": "code",
   "source": [
    "# Calculate average satisfaction by date\n",
    "average_satisfaction = sales_data.groupby('Tran_Date')['Satisfaction'].mean().reset_index()\n",
    "average_satisfaction.columns = ['Tran_Date', 'Average_Satisfaction']"
   ],
   "id": "bdccfd2dde49266e",
   "outputs": [],
   "execution_count": 56
  },
  {
   "metadata": {
    "ExecuteTime": {
     "end_time": "2024-06-10T03:42:31.077214Z",
     "start_time": "2024-06-10T03:42:31.056137Z"
    }
   },
   "cell_type": "code",
   "source": [
    "# Merge the average satisfaction with the sales data\n",
    "sales_data = pd.merge(sales_data, average_satisfaction, on='Tran_Date')"
   ],
   "id": "e3c0a4e485c0e219",
   "outputs": [],
   "execution_count": 57
  },
  {
   "metadata": {
    "ExecuteTime": {
     "end_time": "2024-06-10T03:44:34.103648Z",
     "start_time": "2024-06-10T03:44:34.075330Z"
    }
   },
   "cell_type": "code",
   "source": "sales_data.head()",
   "id": "2c2502fe232d522e",
   "outputs": [
    {
     "data": {
      "text/plain": [
       "  Transaction_Type  Tran_Date  Store_Num  Tran_Amt  Emp_Num Category  \\\n",
       "0         Purchase 2020-01-01        101      1.99      201     Misc   \n",
       "1         Purchase 2020-01-01        101     19.99      201  Grocery   \n",
       "2         Purchase 2020-01-01        101     99.99      201    Elect   \n",
       "3         Purchase 2020-01-01        101     45.12      201    Elect   \n",
       "4         Purchase 2020-01-01        101     32.35      201    Elect   \n",
       "\n",
       "   Num_Items  Satisfaction  Day  Month  Day_of_Week  Average_Satisfaction  \n",
       "0          1             2    1      1            2                   3.0  \n",
       "1          2             1    1      1            2                   3.0  \n",
       "2          3             1    1      1            2                   3.0  \n",
       "3          7             1    1      1            2                   3.0  \n",
       "4          8             5    1      1            2                   3.0  "
      ],
      "text/html": [
       "<div>\n",
       "<style scoped>\n",
       "    .dataframe tbody tr th:only-of-type {\n",
       "        vertical-align: middle;\n",
       "    }\n",
       "\n",
       "    .dataframe tbody tr th {\n",
       "        vertical-align: top;\n",
       "    }\n",
       "\n",
       "    .dataframe thead th {\n",
       "        text-align: right;\n",
       "    }\n",
       "</style>\n",
       "<table border=\"1\" class=\"dataframe\">\n",
       "  <thead>\n",
       "    <tr style=\"text-align: right;\">\n",
       "      <th></th>\n",
       "      <th>Transaction_Type</th>\n",
       "      <th>Tran_Date</th>\n",
       "      <th>Store_Num</th>\n",
       "      <th>Tran_Amt</th>\n",
       "      <th>Emp_Num</th>\n",
       "      <th>Category</th>\n",
       "      <th>Num_Items</th>\n",
       "      <th>Satisfaction</th>\n",
       "      <th>Day</th>\n",
       "      <th>Month</th>\n",
       "      <th>Day_of_Week</th>\n",
       "      <th>Average_Satisfaction</th>\n",
       "    </tr>\n",
       "  </thead>\n",
       "  <tbody>\n",
       "    <tr>\n",
       "      <th>0</th>\n",
       "      <td>Purchase</td>\n",
       "      <td>2020-01-01</td>\n",
       "      <td>101</td>\n",
       "      <td>1.99</td>\n",
       "      <td>201</td>\n",
       "      <td>Misc</td>\n",
       "      <td>1</td>\n",
       "      <td>2</td>\n",
       "      <td>1</td>\n",
       "      <td>1</td>\n",
       "      <td>2</td>\n",
       "      <td>3.0</td>\n",
       "    </tr>\n",
       "    <tr>\n",
       "      <th>1</th>\n",
       "      <td>Purchase</td>\n",
       "      <td>2020-01-01</td>\n",
       "      <td>101</td>\n",
       "      <td>19.99</td>\n",
       "      <td>201</td>\n",
       "      <td>Grocery</td>\n",
       "      <td>2</td>\n",
       "      <td>1</td>\n",
       "      <td>1</td>\n",
       "      <td>1</td>\n",
       "      <td>2</td>\n",
       "      <td>3.0</td>\n",
       "    </tr>\n",
       "    <tr>\n",
       "      <th>2</th>\n",
       "      <td>Purchase</td>\n",
       "      <td>2020-01-01</td>\n",
       "      <td>101</td>\n",
       "      <td>99.99</td>\n",
       "      <td>201</td>\n",
       "      <td>Elect</td>\n",
       "      <td>3</td>\n",
       "      <td>1</td>\n",
       "      <td>1</td>\n",
       "      <td>1</td>\n",
       "      <td>2</td>\n",
       "      <td>3.0</td>\n",
       "    </tr>\n",
       "    <tr>\n",
       "      <th>3</th>\n",
       "      <td>Purchase</td>\n",
       "      <td>2020-01-01</td>\n",
       "      <td>101</td>\n",
       "      <td>45.12</td>\n",
       "      <td>201</td>\n",
       "      <td>Elect</td>\n",
       "      <td>7</td>\n",
       "      <td>1</td>\n",
       "      <td>1</td>\n",
       "      <td>1</td>\n",
       "      <td>2</td>\n",
       "      <td>3.0</td>\n",
       "    </tr>\n",
       "    <tr>\n",
       "      <th>4</th>\n",
       "      <td>Purchase</td>\n",
       "      <td>2020-01-01</td>\n",
       "      <td>101</td>\n",
       "      <td>32.35</td>\n",
       "      <td>201</td>\n",
       "      <td>Elect</td>\n",
       "      <td>8</td>\n",
       "      <td>5</td>\n",
       "      <td>1</td>\n",
       "      <td>1</td>\n",
       "      <td>2</td>\n",
       "      <td>3.0</td>\n",
       "    </tr>\n",
       "  </tbody>\n",
       "</table>\n",
       "</div>"
      ]
     },
     "execution_count": 60,
     "metadata": {},
     "output_type": "execute_result"
    }
   ],
   "execution_count": 60
  },
  {
   "metadata": {
    "ExecuteTime": {
     "end_time": "2024-06-10T03:44:53.882197Z",
     "start_time": "2024-06-10T03:44:53.872181Z"
    }
   },
   "cell_type": "code",
   "source": "sales_data.info()",
   "id": "ab96d54567baf53f",
   "outputs": [
    {
     "name": "stdout",
     "output_type": "stream",
     "text": [
      "<class 'pandas.core.frame.DataFrame'>\n",
      "RangeIndex: 282 entries, 0 to 281\n",
      "Data columns (total 12 columns):\n",
      " #   Column                Non-Null Count  Dtype         \n",
      "---  ------                --------------  -----         \n",
      " 0   Transaction_Type      282 non-null    object        \n",
      " 1   Tran_Date             282 non-null    datetime64[ns]\n",
      " 2   Store_Num             282 non-null    int64         \n",
      " 3   Tran_Amt              282 non-null    float64       \n",
      " 4   Emp_Num               282 non-null    int64         \n",
      " 5   Category              282 non-null    object        \n",
      " 6   Num_Items             282 non-null    int64         \n",
      " 7   Satisfaction          282 non-null    int64         \n",
      " 8   Day                   282 non-null    int32         \n",
      " 9   Month                 282 non-null    int32         \n",
      " 10  Day_of_Week           282 non-null    int32         \n",
      " 11  Average_Satisfaction  282 non-null    float64       \n",
      "dtypes: datetime64[ns](1), float64(2), int32(3), int64(4), object(2)\n",
      "memory usage: 23.3+ KB\n"
     ]
    }
   ],
   "execution_count": 61
  },
  {
   "metadata": {
    "ExecuteTime": {
     "end_time": "2024-06-10T03:47:09.717300Z",
     "start_time": "2024-06-10T03:47:09.708857Z"
    }
   },
   "cell_type": "code",
   "source": [
    "# Prepare the data for the model\n",
    "features = ['Store_Num', 'Emp_Num', 'Day', 'Month', 'Day_of_Week', 'Average_Satisfaction', 'Category', 'Transaction_Type', 'Num_Items']\n",
    "X = sales_data[features]  # Features\n",
    "y = sales_data['Tran_Amt']  # Target variable"
   ],
   "id": "24af26f50f8e2624",
   "outputs": [],
   "execution_count": 63
  },
  {
   "metadata": {
    "ExecuteTime": {
     "end_time": "2024-06-10T03:48:34.302155Z",
     "start_time": "2024-06-10T03:48:34.286763Z"
    }
   },
   "cell_type": "code",
   "source": [
    "# Perform one hot encoding on the transaction type, store number, employee number and the category\n",
    "from sklearn.preprocessing import OneHotEncoder\n",
    "encoder = OneHotEncoder()\n",
    "transaction_type_1hot = encoder.fit_transform(X[['Transaction_Type']])\n",
    "store_num_1hot = encoder.fit_transform(X[['Store_Num']])\n",
    "emp_num_1hot = encoder.fit_transform(X[['Emp_Num']])\n",
    "category_1hot = encoder.fit_transform(X[['Category']])"
   ],
   "id": "e848574db6f124a3",
   "outputs": [],
   "execution_count": 64
  },
  {
   "metadata": {
    "ExecuteTime": {
     "end_time": "2024-06-10T03:49:50.136158Z",
     "start_time": "2024-06-10T03:49:50.127432Z"
    }
   },
   "cell_type": "code",
   "source": [
    "# Concatenate the one hot encoded data with the original data\n",
    "from scipy.sparse import hstack\n",
    "X = hstack((transaction_type_1hot, store_num_1hot, emp_num_1hot, category_1hot, X.drop(['Transaction_Type', 'Store_Num', 'Emp_Num', 'Category'], axis=1)))"
   ],
   "id": "d8326309dcd06ecf",
   "outputs": [],
   "execution_count": 65
  },
  {
   "metadata": {
    "ExecuteTime": {
     "end_time": "2024-06-10T03:49:52.695712Z",
     "start_time": "2024-06-10T03:49:52.691250Z"
    }
   },
   "cell_type": "code",
   "source": "X",
   "id": "a45a7033a79abde9",
   "outputs": [
    {
     "data": {
      "text/plain": [
       "<282x27 sparse matrix of type '<class 'numpy.float64'>'\n",
       "\twith 2538 stored elements in COOrdinate format>"
      ]
     },
     "execution_count": 66,
     "metadata": {},
     "output_type": "execute_result"
    }
   ],
   "execution_count": 66
  },
  {
   "metadata": {
    "ExecuteTime": {
     "end_time": "2024-06-10T03:50:38.982325Z",
     "start_time": "2024-06-10T03:50:38.970945Z"
    }
   },
   "cell_type": "code",
   "source": [
    "# Split the data into training and testing data\n",
    "from sklearn.model_selection import train_test_split\n",
    "X_train, X_test, y_train, y_test = train_test_split(X, y, test_size=0.2, random_state=42)"
   ],
   "id": "cac6fcd978f92586",
   "outputs": [],
   "execution_count": 67
  },
  {
   "metadata": {
    "ExecuteTime": {
     "end_time": "2024-06-10T03:51:12.209320Z",
     "start_time": "2024-06-10T03:51:11.975961Z"
    }
   },
   "cell_type": "code",
   "source": [
    "# Train the model\n",
    "# Linear Regression\n",
    "from sklearn.linear_model import LinearRegression\n",
    "lin_reg = LinearRegression()\n",
    "lin_reg.fit(X_train, y_train)"
   ],
   "id": "31dafb60b0361380",
   "outputs": [
    {
     "data": {
      "text/plain": [
       "LinearRegression()"
      ],
      "text/html": [
       "<style>#sk-container-id-1 {color: black;}#sk-container-id-1 pre{padding: 0;}#sk-container-id-1 div.sk-toggleable {background-color: white;}#sk-container-id-1 label.sk-toggleable__label {cursor: pointer;display: block;width: 100%;margin-bottom: 0;padding: 0.3em;box-sizing: border-box;text-align: center;}#sk-container-id-1 label.sk-toggleable__label-arrow:before {content: \"▸\";float: left;margin-right: 0.25em;color: #696969;}#sk-container-id-1 label.sk-toggleable__label-arrow:hover:before {color: black;}#sk-container-id-1 div.sk-estimator:hover label.sk-toggleable__label-arrow:before {color: black;}#sk-container-id-1 div.sk-toggleable__content {max-height: 0;max-width: 0;overflow: hidden;text-align: left;background-color: #f0f8ff;}#sk-container-id-1 div.sk-toggleable__content pre {margin: 0.2em;color: black;border-radius: 0.25em;background-color: #f0f8ff;}#sk-container-id-1 input.sk-toggleable__control:checked~div.sk-toggleable__content {max-height: 200px;max-width: 100%;overflow: auto;}#sk-container-id-1 input.sk-toggleable__control:checked~label.sk-toggleable__label-arrow:before {content: \"▾\";}#sk-container-id-1 div.sk-estimator input.sk-toggleable__control:checked~label.sk-toggleable__label {background-color: #d4ebff;}#sk-container-id-1 div.sk-label input.sk-toggleable__control:checked~label.sk-toggleable__label {background-color: #d4ebff;}#sk-container-id-1 input.sk-hidden--visually {border: 0;clip: rect(1px 1px 1px 1px);clip: rect(1px, 1px, 1px, 1px);height: 1px;margin: -1px;overflow: hidden;padding: 0;position: absolute;width: 1px;}#sk-container-id-1 div.sk-estimator {font-family: monospace;background-color: #f0f8ff;border: 1px dotted black;border-radius: 0.25em;box-sizing: border-box;margin-bottom: 0.5em;}#sk-container-id-1 div.sk-estimator:hover {background-color: #d4ebff;}#sk-container-id-1 div.sk-parallel-item::after {content: \"\";width: 100%;border-bottom: 1px solid gray;flex-grow: 1;}#sk-container-id-1 div.sk-label:hover label.sk-toggleable__label {background-color: #d4ebff;}#sk-container-id-1 div.sk-serial::before {content: \"\";position: absolute;border-left: 1px solid gray;box-sizing: border-box;top: 0;bottom: 0;left: 50%;z-index: 0;}#sk-container-id-1 div.sk-serial {display: flex;flex-direction: column;align-items: center;background-color: white;padding-right: 0.2em;padding-left: 0.2em;position: relative;}#sk-container-id-1 div.sk-item {position: relative;z-index: 1;}#sk-container-id-1 div.sk-parallel {display: flex;align-items: stretch;justify-content: center;background-color: white;position: relative;}#sk-container-id-1 div.sk-item::before, #sk-container-id-1 div.sk-parallel-item::before {content: \"\";position: absolute;border-left: 1px solid gray;box-sizing: border-box;top: 0;bottom: 0;left: 50%;z-index: -1;}#sk-container-id-1 div.sk-parallel-item {display: flex;flex-direction: column;z-index: 1;position: relative;background-color: white;}#sk-container-id-1 div.sk-parallel-item:first-child::after {align-self: flex-end;width: 50%;}#sk-container-id-1 div.sk-parallel-item:last-child::after {align-self: flex-start;width: 50%;}#sk-container-id-1 div.sk-parallel-item:only-child::after {width: 0;}#sk-container-id-1 div.sk-dashed-wrapped {border: 1px dashed gray;margin: 0 0.4em 0.5em 0.4em;box-sizing: border-box;padding-bottom: 0.4em;background-color: white;}#sk-container-id-1 div.sk-label label {font-family: monospace;font-weight: bold;display: inline-block;line-height: 1.2em;}#sk-container-id-1 div.sk-label-container {text-align: center;}#sk-container-id-1 div.sk-container {/* jupyter's `normalize.less` sets `[hidden] { display: none; }` but bootstrap.min.css set `[hidden] { display: none !important; }` so we also need the `!important` here to be able to override the default hidden behavior on the sphinx rendered scikit-learn.org. See: https://github.com/scikit-learn/scikit-learn/issues/21755 */display: inline-block !important;position: relative;}#sk-container-id-1 div.sk-text-repr-fallback {display: none;}</style><div id=\"sk-container-id-1\" class=\"sk-top-container\"><div class=\"sk-text-repr-fallback\"><pre>LinearRegression()</pre><b>In a Jupyter environment, please rerun this cell to show the HTML representation or trust the notebook. <br />On GitHub, the HTML representation is unable to render, please try loading this page with nbviewer.org.</b></div><div class=\"sk-container\" hidden><div class=\"sk-item\"><div class=\"sk-estimator sk-toggleable\"><input class=\"sk-toggleable__control sk-hidden--visually\" id=\"sk-estimator-id-1\" type=\"checkbox\" checked><label for=\"sk-estimator-id-1\" class=\"sk-toggleable__label sk-toggleable__label-arrow\">LinearRegression</label><div class=\"sk-toggleable__content\"><pre>LinearRegression()</pre></div></div></div></div></div>"
      ]
     },
     "execution_count": 68,
     "metadata": {},
     "output_type": "execute_result"
    }
   ],
   "execution_count": 68
  },
  {
   "metadata": {
    "ExecuteTime": {
     "end_time": "2024-06-10T03:54:37.233983Z",
     "start_time": "2024-06-10T03:54:37.224071Z"
    }
   },
   "cell_type": "code",
   "source": [
    "# Evaluate the Linear Regression model\n",
    "from sklearn.metrics import mean_squared_error, mean_absolute_error\n",
    "y_pred_lin_reg = lin_reg.predict(X_train)\n",
    "\n",
    "lin_mse = mean_squared_error(y_train, y_pred_lin_reg)\n",
    "lin_rmse = np.sqrt(lin_mse)\n",
    "lin_mae = mean_absolute_error(y_train, y_pred_lin_reg)\n",
    "\n",
    "print(f'Linear Regression RMSE: {lin_rmse}')\n",
    "print(f'Linear Regression MAE: {lin_mae}')"
   ],
   "id": "d1700634e76b198b",
   "outputs": [
    {
     "name": "stdout",
     "output_type": "stream",
     "text": [
      "Linear Regression RMSE: 69.88525712412581\n",
      "Linear Regression MAE: 56.26244610720998\n"
     ]
    }
   ],
   "execution_count": 69
  },
  {
   "metadata": {
    "ExecuteTime": {
     "end_time": "2024-06-10T03:55:54.102Z",
     "start_time": "2024-06-10T03:55:53.744947Z"
    }
   },
   "cell_type": "code",
   "source": [
    "# Decision Tree Regressor\n",
    "from sklearn.tree import DecisionTreeRegressor\n",
    "dt_red_tree = DecisionTreeRegressor(random_state=42)\n",
    "dt_red_tree.fit(X_train, y_train)"
   ],
   "id": "6083c33054041a9f",
   "outputs": [
    {
     "data": {
      "text/plain": [
       "DecisionTreeRegressor(random_state=42)"
      ],
      "text/html": [
       "<style>#sk-container-id-2 {color: black;}#sk-container-id-2 pre{padding: 0;}#sk-container-id-2 div.sk-toggleable {background-color: white;}#sk-container-id-2 label.sk-toggleable__label {cursor: pointer;display: block;width: 100%;margin-bottom: 0;padding: 0.3em;box-sizing: border-box;text-align: center;}#sk-container-id-2 label.sk-toggleable__label-arrow:before {content: \"▸\";float: left;margin-right: 0.25em;color: #696969;}#sk-container-id-2 label.sk-toggleable__label-arrow:hover:before {color: black;}#sk-container-id-2 div.sk-estimator:hover label.sk-toggleable__label-arrow:before {color: black;}#sk-container-id-2 div.sk-toggleable__content {max-height: 0;max-width: 0;overflow: hidden;text-align: left;background-color: #f0f8ff;}#sk-container-id-2 div.sk-toggleable__content pre {margin: 0.2em;color: black;border-radius: 0.25em;background-color: #f0f8ff;}#sk-container-id-2 input.sk-toggleable__control:checked~div.sk-toggleable__content {max-height: 200px;max-width: 100%;overflow: auto;}#sk-container-id-2 input.sk-toggleable__control:checked~label.sk-toggleable__label-arrow:before {content: \"▾\";}#sk-container-id-2 div.sk-estimator input.sk-toggleable__control:checked~label.sk-toggleable__label {background-color: #d4ebff;}#sk-container-id-2 div.sk-label input.sk-toggleable__control:checked~label.sk-toggleable__label {background-color: #d4ebff;}#sk-container-id-2 input.sk-hidden--visually {border: 0;clip: rect(1px 1px 1px 1px);clip: rect(1px, 1px, 1px, 1px);height: 1px;margin: -1px;overflow: hidden;padding: 0;position: absolute;width: 1px;}#sk-container-id-2 div.sk-estimator {font-family: monospace;background-color: #f0f8ff;border: 1px dotted black;border-radius: 0.25em;box-sizing: border-box;margin-bottom: 0.5em;}#sk-container-id-2 div.sk-estimator:hover {background-color: #d4ebff;}#sk-container-id-2 div.sk-parallel-item::after {content: \"\";width: 100%;border-bottom: 1px solid gray;flex-grow: 1;}#sk-container-id-2 div.sk-label:hover label.sk-toggleable__label {background-color: #d4ebff;}#sk-container-id-2 div.sk-serial::before {content: \"\";position: absolute;border-left: 1px solid gray;box-sizing: border-box;top: 0;bottom: 0;left: 50%;z-index: 0;}#sk-container-id-2 div.sk-serial {display: flex;flex-direction: column;align-items: center;background-color: white;padding-right: 0.2em;padding-left: 0.2em;position: relative;}#sk-container-id-2 div.sk-item {position: relative;z-index: 1;}#sk-container-id-2 div.sk-parallel {display: flex;align-items: stretch;justify-content: center;background-color: white;position: relative;}#sk-container-id-2 div.sk-item::before, #sk-container-id-2 div.sk-parallel-item::before {content: \"\";position: absolute;border-left: 1px solid gray;box-sizing: border-box;top: 0;bottom: 0;left: 50%;z-index: -1;}#sk-container-id-2 div.sk-parallel-item {display: flex;flex-direction: column;z-index: 1;position: relative;background-color: white;}#sk-container-id-2 div.sk-parallel-item:first-child::after {align-self: flex-end;width: 50%;}#sk-container-id-2 div.sk-parallel-item:last-child::after {align-self: flex-start;width: 50%;}#sk-container-id-2 div.sk-parallel-item:only-child::after {width: 0;}#sk-container-id-2 div.sk-dashed-wrapped {border: 1px dashed gray;margin: 0 0.4em 0.5em 0.4em;box-sizing: border-box;padding-bottom: 0.4em;background-color: white;}#sk-container-id-2 div.sk-label label {font-family: monospace;font-weight: bold;display: inline-block;line-height: 1.2em;}#sk-container-id-2 div.sk-label-container {text-align: center;}#sk-container-id-2 div.sk-container {/* jupyter's `normalize.less` sets `[hidden] { display: none; }` but bootstrap.min.css set `[hidden] { display: none !important; }` so we also need the `!important` here to be able to override the default hidden behavior on the sphinx rendered scikit-learn.org. See: https://github.com/scikit-learn/scikit-learn/issues/21755 */display: inline-block !important;position: relative;}#sk-container-id-2 div.sk-text-repr-fallback {display: none;}</style><div id=\"sk-container-id-2\" class=\"sk-top-container\"><div class=\"sk-text-repr-fallback\"><pre>DecisionTreeRegressor(random_state=42)</pre><b>In a Jupyter environment, please rerun this cell to show the HTML representation or trust the notebook. <br />On GitHub, the HTML representation is unable to render, please try loading this page with nbviewer.org.</b></div><div class=\"sk-container\" hidden><div class=\"sk-item\"><div class=\"sk-estimator sk-toggleable\"><input class=\"sk-toggleable__control sk-hidden--visually\" id=\"sk-estimator-id-2\" type=\"checkbox\" checked><label for=\"sk-estimator-id-2\" class=\"sk-toggleable__label sk-toggleable__label-arrow\">DecisionTreeRegressor</label><div class=\"sk-toggleable__content\"><pre>DecisionTreeRegressor(random_state=42)</pre></div></div></div></div></div>"
      ]
     },
     "execution_count": 70,
     "metadata": {},
     "output_type": "execute_result"
    }
   ],
   "execution_count": 70
  },
  {
   "metadata": {
    "ExecuteTime": {
     "end_time": "2024-06-10T03:56:31.820562Z",
     "start_time": "2024-06-10T03:56:31.811132Z"
    }
   },
   "cell_type": "code",
   "source": [
    "# Evaluate the Decision Tree Regressor model\n",
    "y_pred_dt_red_tree = dt_red_tree.predict(X_train)\n",
    "\n",
    "dt_red_tree_mse = mean_squared_error(y_train, y_pred_dt_red_tree)\n",
    "dt_red_tree_rmse = np.sqrt(dt_red_tree_mse)\n",
    "dt_red_tree_mae = mean_absolute_error(y_train, y_pred_dt_red_tree)\n",
    "\n",
    "print(f'Decision Tree Regressor RMSE: {dt_red_tree_rmse}')\n",
    "print(f'Decision Tree Regressor MAE: {dt_red_tree_mae}')"
   ],
   "id": "ddf772256100a79d",
   "outputs": [
    {
     "name": "stdout",
     "output_type": "stream",
     "text": [
      "Decision Tree Regressor RMSE: 16.640478376314565\n",
      "Decision Tree Regressor MAE: 4.809303703703703\n"
     ]
    }
   ],
   "execution_count": 71
  },
  {
   "metadata": {
    "ExecuteTime": {
     "end_time": "2024-06-10T03:59:49.359785Z",
     "start_time": "2024-06-10T03:59:02.808721Z"
    }
   },
   "cell_type": "code",
   "source": [
    "# Random Forest Regressor\n",
    "from sklearn.ensemble import RandomForestRegressor\n",
    "rf_reg = RandomForestRegressor(random_state=42)\n",
    "param_grid = {\n",
    "    'n_estimators': [50, 100, 200],\n",
    "    'max_depth': [None, 10, 20, 30],\n",
    "    'min_samples_split': [2, 5, 10]\n",
    "}\n",
    "\n",
    "from sklearn.model_selection import GridSearchCV\n",
    "grid_search = GridSearchCV(rf_reg, param_grid, cv=5, scoring='neg_mean_squared_error')\n",
    "grid_search.fit(X_train, y_train)"
   ],
   "id": "f4e2465cacf632b6",
   "outputs": [
    {
     "data": {
      "text/plain": [
       "GridSearchCV(cv=5, estimator=RandomForestRegressor(random_state=42),\n",
       "             param_grid={'max_depth': [None, 10, 20, 30],\n",
       "                         'min_samples_split': [2, 5, 10],\n",
       "                         'n_estimators': [50, 100, 200]},\n",
       "             scoring='neg_mean_squared_error')"
      ],
      "text/html": [
       "<style>#sk-container-id-3 {color: black;}#sk-container-id-3 pre{padding: 0;}#sk-container-id-3 div.sk-toggleable {background-color: white;}#sk-container-id-3 label.sk-toggleable__label {cursor: pointer;display: block;width: 100%;margin-bottom: 0;padding: 0.3em;box-sizing: border-box;text-align: center;}#sk-container-id-3 label.sk-toggleable__label-arrow:before {content: \"▸\";float: left;margin-right: 0.25em;color: #696969;}#sk-container-id-3 label.sk-toggleable__label-arrow:hover:before {color: black;}#sk-container-id-3 div.sk-estimator:hover label.sk-toggleable__label-arrow:before {color: black;}#sk-container-id-3 div.sk-toggleable__content {max-height: 0;max-width: 0;overflow: hidden;text-align: left;background-color: #f0f8ff;}#sk-container-id-3 div.sk-toggleable__content pre {margin: 0.2em;color: black;border-radius: 0.25em;background-color: #f0f8ff;}#sk-container-id-3 input.sk-toggleable__control:checked~div.sk-toggleable__content {max-height: 200px;max-width: 100%;overflow: auto;}#sk-container-id-3 input.sk-toggleable__control:checked~label.sk-toggleable__label-arrow:before {content: \"▾\";}#sk-container-id-3 div.sk-estimator input.sk-toggleable__control:checked~label.sk-toggleable__label {background-color: #d4ebff;}#sk-container-id-3 div.sk-label input.sk-toggleable__control:checked~label.sk-toggleable__label {background-color: #d4ebff;}#sk-container-id-3 input.sk-hidden--visually {border: 0;clip: rect(1px 1px 1px 1px);clip: rect(1px, 1px, 1px, 1px);height: 1px;margin: -1px;overflow: hidden;padding: 0;position: absolute;width: 1px;}#sk-container-id-3 div.sk-estimator {font-family: monospace;background-color: #f0f8ff;border: 1px dotted black;border-radius: 0.25em;box-sizing: border-box;margin-bottom: 0.5em;}#sk-container-id-3 div.sk-estimator:hover {background-color: #d4ebff;}#sk-container-id-3 div.sk-parallel-item::after {content: \"\";width: 100%;border-bottom: 1px solid gray;flex-grow: 1;}#sk-container-id-3 div.sk-label:hover label.sk-toggleable__label {background-color: #d4ebff;}#sk-container-id-3 div.sk-serial::before {content: \"\";position: absolute;border-left: 1px solid gray;box-sizing: border-box;top: 0;bottom: 0;left: 50%;z-index: 0;}#sk-container-id-3 div.sk-serial {display: flex;flex-direction: column;align-items: center;background-color: white;padding-right: 0.2em;padding-left: 0.2em;position: relative;}#sk-container-id-3 div.sk-item {position: relative;z-index: 1;}#sk-container-id-3 div.sk-parallel {display: flex;align-items: stretch;justify-content: center;background-color: white;position: relative;}#sk-container-id-3 div.sk-item::before, #sk-container-id-3 div.sk-parallel-item::before {content: \"\";position: absolute;border-left: 1px solid gray;box-sizing: border-box;top: 0;bottom: 0;left: 50%;z-index: -1;}#sk-container-id-3 div.sk-parallel-item {display: flex;flex-direction: column;z-index: 1;position: relative;background-color: white;}#sk-container-id-3 div.sk-parallel-item:first-child::after {align-self: flex-end;width: 50%;}#sk-container-id-3 div.sk-parallel-item:last-child::after {align-self: flex-start;width: 50%;}#sk-container-id-3 div.sk-parallel-item:only-child::after {width: 0;}#sk-container-id-3 div.sk-dashed-wrapped {border: 1px dashed gray;margin: 0 0.4em 0.5em 0.4em;box-sizing: border-box;padding-bottom: 0.4em;background-color: white;}#sk-container-id-3 div.sk-label label {font-family: monospace;font-weight: bold;display: inline-block;line-height: 1.2em;}#sk-container-id-3 div.sk-label-container {text-align: center;}#sk-container-id-3 div.sk-container {/* jupyter's `normalize.less` sets `[hidden] { display: none; }` but bootstrap.min.css set `[hidden] { display: none !important; }` so we also need the `!important` here to be able to override the default hidden behavior on the sphinx rendered scikit-learn.org. See: https://github.com/scikit-learn/scikit-learn/issues/21755 */display: inline-block !important;position: relative;}#sk-container-id-3 div.sk-text-repr-fallback {display: none;}</style><div id=\"sk-container-id-3\" class=\"sk-top-container\"><div class=\"sk-text-repr-fallback\"><pre>GridSearchCV(cv=5, estimator=RandomForestRegressor(random_state=42),\n",
       "             param_grid={&#x27;max_depth&#x27;: [None, 10, 20, 30],\n",
       "                         &#x27;min_samples_split&#x27;: [2, 5, 10],\n",
       "                         &#x27;n_estimators&#x27;: [50, 100, 200]},\n",
       "             scoring=&#x27;neg_mean_squared_error&#x27;)</pre><b>In a Jupyter environment, please rerun this cell to show the HTML representation or trust the notebook. <br />On GitHub, the HTML representation is unable to render, please try loading this page with nbviewer.org.</b></div><div class=\"sk-container\" hidden><div class=\"sk-item sk-dashed-wrapped\"><div class=\"sk-label-container\"><div class=\"sk-label sk-toggleable\"><input class=\"sk-toggleable__control sk-hidden--visually\" id=\"sk-estimator-id-3\" type=\"checkbox\" ><label for=\"sk-estimator-id-3\" class=\"sk-toggleable__label sk-toggleable__label-arrow\">GridSearchCV</label><div class=\"sk-toggleable__content\"><pre>GridSearchCV(cv=5, estimator=RandomForestRegressor(random_state=42),\n",
       "             param_grid={&#x27;max_depth&#x27;: [None, 10, 20, 30],\n",
       "                         &#x27;min_samples_split&#x27;: [2, 5, 10],\n",
       "                         &#x27;n_estimators&#x27;: [50, 100, 200]},\n",
       "             scoring=&#x27;neg_mean_squared_error&#x27;)</pre></div></div></div><div class=\"sk-parallel\"><div class=\"sk-parallel-item\"><div class=\"sk-item\"><div class=\"sk-label-container\"><div class=\"sk-label sk-toggleable\"><input class=\"sk-toggleable__control sk-hidden--visually\" id=\"sk-estimator-id-4\" type=\"checkbox\" ><label for=\"sk-estimator-id-4\" class=\"sk-toggleable__label sk-toggleable__label-arrow\">estimator: RandomForestRegressor</label><div class=\"sk-toggleable__content\"><pre>RandomForestRegressor(random_state=42)</pre></div></div></div><div class=\"sk-serial\"><div class=\"sk-item\"><div class=\"sk-estimator sk-toggleable\"><input class=\"sk-toggleable__control sk-hidden--visually\" id=\"sk-estimator-id-5\" type=\"checkbox\" ><label for=\"sk-estimator-id-5\" class=\"sk-toggleable__label sk-toggleable__label-arrow\">RandomForestRegressor</label><div class=\"sk-toggleable__content\"><pre>RandomForestRegressor(random_state=42)</pre></div></div></div></div></div></div></div></div></div></div>"
      ]
     },
     "execution_count": 72,
     "metadata": {},
     "output_type": "execute_result"
    }
   ],
   "execution_count": 72
  },
  {
   "metadata": {
    "ExecuteTime": {
     "end_time": "2024-06-10T03:59:56.143433Z",
     "start_time": "2024-06-10T03:59:56.136913Z"
    }
   },
   "cell_type": "code",
   "source": "grid_search.best_params_",
   "id": "97e8650927e26873",
   "outputs": [
    {
     "data": {
      "text/plain": [
       "{'max_depth': 10, 'min_samples_split': 2, 'n_estimators': 200}"
      ]
     },
     "execution_count": 73,
     "metadata": {},
     "output_type": "execute_result"
    }
   ],
   "execution_count": 73
  },
  {
   "metadata": {
    "ExecuteTime": {
     "end_time": "2024-06-10T04:02:19.940262Z",
     "start_time": "2024-06-10T04:02:19.910832Z"
    }
   },
   "cell_type": "code",
   "source": [
    "# Evaluate the Random Forest Regressor model\n",
    "best_rf_reg = grid_search.best_estimator_\n",
    "y_pred_rf_reg = best_rf_reg.predict(X_test)\n",
    "\n",
    "rf_reg_mse = mean_squared_error(y_test, y_pred_rf_reg)\n",
    "rf_reg_rmse = np.sqrt(rf_reg_mse)\n",
    "rf_reg_mae = mean_absolute_error(y_test, y_pred_rf_reg)\n",
    "\n",
    "print(f'Random Forest Regressor RMSE: {rf_reg_rmse}')\n",
    "print(f'Random Forest Regressor MAE: {rf_reg_mae}')"
   ],
   "id": "b7c775f5318e5c23",
   "outputs": [
    {
     "name": "stdout",
     "output_type": "stream",
     "text": [
      "Random Forest Regressor RMSE: 76.88618605699547\n",
      "Random Forest Regressor MAE: 62.528888713831016\n"
     ]
    }
   ],
   "execution_count": 74
  },
  {
   "metadata": {},
   "cell_type": "code",
   "outputs": [],
   "execution_count": null,
   "source": "",
   "id": "374e2a2670f41271"
  }
 ],
 "metadata": {
  "kernelspec": {
   "display_name": "Python 3",
   "language": "python",
   "name": "python3"
  },
  "language_info": {
   "codemirror_mode": {
    "name": "ipython",
    "version": 2
   },
   "file_extension": ".py",
   "mimetype": "text/x-python",
   "name": "python",
   "nbconvert_exporter": "python",
   "pygments_lexer": "ipython2",
   "version": "2.7.6"
  }
 },
 "nbformat": 4,
 "nbformat_minor": 5
}
