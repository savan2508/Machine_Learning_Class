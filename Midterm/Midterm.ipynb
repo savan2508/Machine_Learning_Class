{
 "cells": [
  {
   "cell_type": "code",
   "id": "initial_id",
   "metadata": {
    "collapsed": true,
    "ExecuteTime": {
     "end_time": "2024-06-19T14:03:18.215902Z",
     "start_time": "2024-06-19T14:03:18.203897Z"
    }
   },
   "source": "# Author: Savan Patel",
   "outputs": [],
   "execution_count": 1
  },
  {
   "metadata": {
    "ExecuteTime": {
     "end_time": "2024-06-19T14:03:20.685798Z",
     "start_time": "2024-06-19T14:03:18.217953Z"
    }
   },
   "cell_type": "code",
   "source": [
    "# Importing required libraries\n",
    "import pandas as pd\n",
    "import numpy as np\n",
    "import matplotlib.pyplot as plt\n",
    "\n",
    "# Author: Savan Patel"
   ],
   "id": "2604799b7f07b6db",
   "outputs": [],
   "execution_count": 2
  },
  {
   "metadata": {
    "ExecuteTime": {
     "end_time": "2024-06-19T14:03:20.743300Z",
     "start_time": "2024-06-19T14:03:20.687856Z"
    }
   },
   "cell_type": "code",
   "source": [
    "# Reading the data from the csv file located in Data folder\n",
    "salary_data = pd.read_csv('Data/salaries.csv')"
   ],
   "id": "7fa7f4dabc12882e",
   "outputs": [],
   "execution_count": 3
  },
  {
   "metadata": {
    "ExecuteTime": {
     "end_time": "2024-06-19T14:03:20.785976Z",
     "start_time": "2024-06-19T14:03:20.747356Z"
    }
   },
   "cell_type": "code",
   "source": [
    "# show the first 5 rows of the data\n",
    "salary_data.head()"
   ],
   "id": "4ae094b1624dbbd3",
   "outputs": [
    {
     "data": {
      "text/plain": [
       "   work_year experience_level employment_type                  job_title  \\\n",
       "0       2023               SE              FT             Data Scientist   \n",
       "1       2023               SE              FT             Data Scientist   \n",
       "2       2023               SE              FT  Machine Learning Engineer   \n",
       "3       2023               SE              FT  Machine Learning Engineer   \n",
       "4       2023               SE              FT                ML Engineer   \n",
       "\n",
       "   salary salary_currency  salary_in_usd employee_residence  remote_ratio  \\\n",
       "0  199000             USD         199000                 US             0   \n",
       "1  196760             USD         196760                 US             0   \n",
       "2   90000             USD          90000                 CO             0   \n",
       "3   70000             USD          70000                 CO             0   \n",
       "4  324000             USD         324000                 US             0   \n",
       "\n",
       "  company_location company_size  \n",
       "0               US            M  \n",
       "1               US            M  \n",
       "2               CO            M  \n",
       "3               CO            M  \n",
       "4               US            M  "
      ],
      "text/html": [
       "<div>\n",
       "<style scoped>\n",
       "    .dataframe tbody tr th:only-of-type {\n",
       "        vertical-align: middle;\n",
       "    }\n",
       "\n",
       "    .dataframe tbody tr th {\n",
       "        vertical-align: top;\n",
       "    }\n",
       "\n",
       "    .dataframe thead th {\n",
       "        text-align: right;\n",
       "    }\n",
       "</style>\n",
       "<table border=\"1\" class=\"dataframe\">\n",
       "  <thead>\n",
       "    <tr style=\"text-align: right;\">\n",
       "      <th></th>\n",
       "      <th>work_year</th>\n",
       "      <th>experience_level</th>\n",
       "      <th>employment_type</th>\n",
       "      <th>job_title</th>\n",
       "      <th>salary</th>\n",
       "      <th>salary_currency</th>\n",
       "      <th>salary_in_usd</th>\n",
       "      <th>employee_residence</th>\n",
       "      <th>remote_ratio</th>\n",
       "      <th>company_location</th>\n",
       "      <th>company_size</th>\n",
       "    </tr>\n",
       "  </thead>\n",
       "  <tbody>\n",
       "    <tr>\n",
       "      <th>0</th>\n",
       "      <td>2023</td>\n",
       "      <td>SE</td>\n",
       "      <td>FT</td>\n",
       "      <td>Data Scientist</td>\n",
       "      <td>199000</td>\n",
       "      <td>USD</td>\n",
       "      <td>199000</td>\n",
       "      <td>US</td>\n",
       "      <td>0</td>\n",
       "      <td>US</td>\n",
       "      <td>M</td>\n",
       "    </tr>\n",
       "    <tr>\n",
       "      <th>1</th>\n",
       "      <td>2023</td>\n",
       "      <td>SE</td>\n",
       "      <td>FT</td>\n",
       "      <td>Data Scientist</td>\n",
       "      <td>196760</td>\n",
       "      <td>USD</td>\n",
       "      <td>196760</td>\n",
       "      <td>US</td>\n",
       "      <td>0</td>\n",
       "      <td>US</td>\n",
       "      <td>M</td>\n",
       "    </tr>\n",
       "    <tr>\n",
       "      <th>2</th>\n",
       "      <td>2023</td>\n",
       "      <td>SE</td>\n",
       "      <td>FT</td>\n",
       "      <td>Machine Learning Engineer</td>\n",
       "      <td>90000</td>\n",
       "      <td>USD</td>\n",
       "      <td>90000</td>\n",
       "      <td>CO</td>\n",
       "      <td>0</td>\n",
       "      <td>CO</td>\n",
       "      <td>M</td>\n",
       "    </tr>\n",
       "    <tr>\n",
       "      <th>3</th>\n",
       "      <td>2023</td>\n",
       "      <td>SE</td>\n",
       "      <td>FT</td>\n",
       "      <td>Machine Learning Engineer</td>\n",
       "      <td>70000</td>\n",
       "      <td>USD</td>\n",
       "      <td>70000</td>\n",
       "      <td>CO</td>\n",
       "      <td>0</td>\n",
       "      <td>CO</td>\n",
       "      <td>M</td>\n",
       "    </tr>\n",
       "    <tr>\n",
       "      <th>4</th>\n",
       "      <td>2023</td>\n",
       "      <td>SE</td>\n",
       "      <td>FT</td>\n",
       "      <td>ML Engineer</td>\n",
       "      <td>324000</td>\n",
       "      <td>USD</td>\n",
       "      <td>324000</td>\n",
       "      <td>US</td>\n",
       "      <td>0</td>\n",
       "      <td>US</td>\n",
       "      <td>M</td>\n",
       "    </tr>\n",
       "  </tbody>\n",
       "</table>\n",
       "</div>"
      ]
     },
     "execution_count": 4,
     "metadata": {},
     "output_type": "execute_result"
    }
   ],
   "execution_count": 4
  },
  {
   "metadata": {
    "ExecuteTime": {
     "end_time": "2024-06-19T14:03:20.819295Z",
     "start_time": "2024-06-19T14:03:20.792991Z"
    }
   },
   "cell_type": "code",
   "source": [
    "# show the last 5 rows of the data\n",
    "salary_data.tail()"
   ],
   "id": "5cdcfbb06a46472e",
   "outputs": [
    {
     "data": {
      "text/plain": [
       "      work_year experience_level employment_type                 job_title  \\\n",
       "8108       2020               SE              FT            Data Scientist   \n",
       "8109       2021               MI              FT  Principal Data Scientist   \n",
       "8110       2020               EN              FT            Data Scientist   \n",
       "8111       2020               EN              CT     Business Data Analyst   \n",
       "8112       2021               SE              FT      Data Science Manager   \n",
       "\n",
       "       salary salary_currency  salary_in_usd employee_residence  remote_ratio  \\\n",
       "8108   412000             USD         412000                 US           100   \n",
       "8109   151000             USD         151000                 US           100   \n",
       "8110   105000             USD         105000                 US           100   \n",
       "8111   100000             USD         100000                 US           100   \n",
       "8112  7000000             INR          94665                 IN            50   \n",
       "\n",
       "     company_location company_size  \n",
       "8108               US            L  \n",
       "8109               US            L  \n",
       "8110               US            S  \n",
       "8111               US            L  \n",
       "8112               IN            L  "
      ],
      "text/html": [
       "<div>\n",
       "<style scoped>\n",
       "    .dataframe tbody tr th:only-of-type {\n",
       "        vertical-align: middle;\n",
       "    }\n",
       "\n",
       "    .dataframe tbody tr th {\n",
       "        vertical-align: top;\n",
       "    }\n",
       "\n",
       "    .dataframe thead th {\n",
       "        text-align: right;\n",
       "    }\n",
       "</style>\n",
       "<table border=\"1\" class=\"dataframe\">\n",
       "  <thead>\n",
       "    <tr style=\"text-align: right;\">\n",
       "      <th></th>\n",
       "      <th>work_year</th>\n",
       "      <th>experience_level</th>\n",
       "      <th>employment_type</th>\n",
       "      <th>job_title</th>\n",
       "      <th>salary</th>\n",
       "      <th>salary_currency</th>\n",
       "      <th>salary_in_usd</th>\n",
       "      <th>employee_residence</th>\n",
       "      <th>remote_ratio</th>\n",
       "      <th>company_location</th>\n",
       "      <th>company_size</th>\n",
       "    </tr>\n",
       "  </thead>\n",
       "  <tbody>\n",
       "    <tr>\n",
       "      <th>8108</th>\n",
       "      <td>2020</td>\n",
       "      <td>SE</td>\n",
       "      <td>FT</td>\n",
       "      <td>Data Scientist</td>\n",
       "      <td>412000</td>\n",
       "      <td>USD</td>\n",
       "      <td>412000</td>\n",
       "      <td>US</td>\n",
       "      <td>100</td>\n",
       "      <td>US</td>\n",
       "      <td>L</td>\n",
       "    </tr>\n",
       "    <tr>\n",
       "      <th>8109</th>\n",
       "      <td>2021</td>\n",
       "      <td>MI</td>\n",
       "      <td>FT</td>\n",
       "      <td>Principal Data Scientist</td>\n",
       "      <td>151000</td>\n",
       "      <td>USD</td>\n",
       "      <td>151000</td>\n",
       "      <td>US</td>\n",
       "      <td>100</td>\n",
       "      <td>US</td>\n",
       "      <td>L</td>\n",
       "    </tr>\n",
       "    <tr>\n",
       "      <th>8110</th>\n",
       "      <td>2020</td>\n",
       "      <td>EN</td>\n",
       "      <td>FT</td>\n",
       "      <td>Data Scientist</td>\n",
       "      <td>105000</td>\n",
       "      <td>USD</td>\n",
       "      <td>105000</td>\n",
       "      <td>US</td>\n",
       "      <td>100</td>\n",
       "      <td>US</td>\n",
       "      <td>S</td>\n",
       "    </tr>\n",
       "    <tr>\n",
       "      <th>8111</th>\n",
       "      <td>2020</td>\n",
       "      <td>EN</td>\n",
       "      <td>CT</td>\n",
       "      <td>Business Data Analyst</td>\n",
       "      <td>100000</td>\n",
       "      <td>USD</td>\n",
       "      <td>100000</td>\n",
       "      <td>US</td>\n",
       "      <td>100</td>\n",
       "      <td>US</td>\n",
       "      <td>L</td>\n",
       "    </tr>\n",
       "    <tr>\n",
       "      <th>8112</th>\n",
       "      <td>2021</td>\n",
       "      <td>SE</td>\n",
       "      <td>FT</td>\n",
       "      <td>Data Science Manager</td>\n",
       "      <td>7000000</td>\n",
       "      <td>INR</td>\n",
       "      <td>94665</td>\n",
       "      <td>IN</td>\n",
       "      <td>50</td>\n",
       "      <td>IN</td>\n",
       "      <td>L</td>\n",
       "    </tr>\n",
       "  </tbody>\n",
       "</table>\n",
       "</div>"
      ]
     },
     "execution_count": 5,
     "metadata": {},
     "output_type": "execute_result"
    }
   ],
   "execution_count": 5
  },
  {
   "metadata": {
    "ExecuteTime": {
     "end_time": "2024-06-19T14:03:20.833751Z",
     "start_time": "2024-06-19T14:03:20.822450Z"
    }
   },
   "cell_type": "code",
   "source": [
    "# show the shape of the data\n",
    "salary_data.shape"
   ],
   "id": "b70e318b38fa36e7",
   "outputs": [
    {
     "data": {
      "text/plain": [
       "(8113, 11)"
      ]
     },
     "execution_count": 6,
     "metadata": {},
     "output_type": "execute_result"
    }
   ],
   "execution_count": 6
  },
  {
   "metadata": {
    "ExecuteTime": {
     "end_time": "2024-06-19T14:03:20.874414Z",
     "start_time": "2024-06-19T14:03:20.836767Z"
    }
   },
   "cell_type": "code",
   "source": [
    "# Show the description of the data\n",
    "salary_data.describe()"
   ],
   "id": "4006d1135bc0902f",
   "outputs": [
    {
     "data": {
      "text/plain": [
       "         work_year        salary  salary_in_usd  remote_ratio\n",
       "count  8113.000000  8.113000e+03    8113.000000   8113.000000\n",
       "mean   2022.715149  1.767508e+05  149305.354616     39.831135\n",
       "std       0.559426  4.746788e+05   64013.143735     48.270212\n",
       "min    2020.000000  1.400000e+04   15000.000000      0.000000\n",
       "25%    2023.000000  1.060000e+05  105000.000000      0.000000\n",
       "50%    2023.000000  1.450000e+05  142200.000000      0.000000\n",
       "75%    2023.000000  1.900000e+05  185900.000000    100.000000\n",
       "max    2023.000000  3.040000e+07  450000.000000    100.000000"
      ],
      "text/html": [
       "<div>\n",
       "<style scoped>\n",
       "    .dataframe tbody tr th:only-of-type {\n",
       "        vertical-align: middle;\n",
       "    }\n",
       "\n",
       "    .dataframe tbody tr th {\n",
       "        vertical-align: top;\n",
       "    }\n",
       "\n",
       "    .dataframe thead th {\n",
       "        text-align: right;\n",
       "    }\n",
       "</style>\n",
       "<table border=\"1\" class=\"dataframe\">\n",
       "  <thead>\n",
       "    <tr style=\"text-align: right;\">\n",
       "      <th></th>\n",
       "      <th>work_year</th>\n",
       "      <th>salary</th>\n",
       "      <th>salary_in_usd</th>\n",
       "      <th>remote_ratio</th>\n",
       "    </tr>\n",
       "  </thead>\n",
       "  <tbody>\n",
       "    <tr>\n",
       "      <th>count</th>\n",
       "      <td>8113.000000</td>\n",
       "      <td>8.113000e+03</td>\n",
       "      <td>8113.000000</td>\n",
       "      <td>8113.000000</td>\n",
       "    </tr>\n",
       "    <tr>\n",
       "      <th>mean</th>\n",
       "      <td>2022.715149</td>\n",
       "      <td>1.767508e+05</td>\n",
       "      <td>149305.354616</td>\n",
       "      <td>39.831135</td>\n",
       "    </tr>\n",
       "    <tr>\n",
       "      <th>std</th>\n",
       "      <td>0.559426</td>\n",
       "      <td>4.746788e+05</td>\n",
       "      <td>64013.143735</td>\n",
       "      <td>48.270212</td>\n",
       "    </tr>\n",
       "    <tr>\n",
       "      <th>min</th>\n",
       "      <td>2020.000000</td>\n",
       "      <td>1.400000e+04</td>\n",
       "      <td>15000.000000</td>\n",
       "      <td>0.000000</td>\n",
       "    </tr>\n",
       "    <tr>\n",
       "      <th>25%</th>\n",
       "      <td>2023.000000</td>\n",
       "      <td>1.060000e+05</td>\n",
       "      <td>105000.000000</td>\n",
       "      <td>0.000000</td>\n",
       "    </tr>\n",
       "    <tr>\n",
       "      <th>50%</th>\n",
       "      <td>2023.000000</td>\n",
       "      <td>1.450000e+05</td>\n",
       "      <td>142200.000000</td>\n",
       "      <td>0.000000</td>\n",
       "    </tr>\n",
       "    <tr>\n",
       "      <th>75%</th>\n",
       "      <td>2023.000000</td>\n",
       "      <td>1.900000e+05</td>\n",
       "      <td>185900.000000</td>\n",
       "      <td>100.000000</td>\n",
       "    </tr>\n",
       "    <tr>\n",
       "      <th>max</th>\n",
       "      <td>2023.000000</td>\n",
       "      <td>3.040000e+07</td>\n",
       "      <td>450000.000000</td>\n",
       "      <td>100.000000</td>\n",
       "    </tr>\n",
       "  </tbody>\n",
       "</table>\n",
       "</div>"
      ]
     },
     "execution_count": 7,
     "metadata": {},
     "output_type": "execute_result"
    }
   ],
   "execution_count": 7
  },
  {
   "metadata": {
    "ExecuteTime": {
     "end_time": "2024-06-19T14:03:20.900968Z",
     "start_time": "2024-06-19T14:03:20.877685Z"
    }
   },
   "cell_type": "code",
   "source": [
    "# Show the information of the data\n",
    "salary_data.info()"
   ],
   "id": "852bf9a230db9263",
   "outputs": [
    {
     "name": "stdout",
     "output_type": "stream",
     "text": [
      "<class 'pandas.core.frame.DataFrame'>\n",
      "RangeIndex: 8113 entries, 0 to 8112\n",
      "Data columns (total 11 columns):\n",
      " #   Column              Non-Null Count  Dtype \n",
      "---  ------              --------------  ----- \n",
      " 0   work_year           8113 non-null   int64 \n",
      " 1   experience_level    8113 non-null   object\n",
      " 2   employment_type     8113 non-null   object\n",
      " 3   job_title           8113 non-null   object\n",
      " 4   salary              8113 non-null   int64 \n",
      " 5   salary_currency     8113 non-null   object\n",
      " 6   salary_in_usd       8113 non-null   int64 \n",
      " 7   employee_residence  8113 non-null   object\n",
      " 8   remote_ratio        8113 non-null   int64 \n",
      " 9   company_location    8113 non-null   object\n",
      " 10  company_size        8113 non-null   object\n",
      "dtypes: int64(4), object(7)\n",
      "memory usage: 697.3+ KB\n"
     ]
    }
   ],
   "execution_count": 8
  },
  {
   "metadata": {
    "ExecuteTime": {
     "end_time": "2024-06-19T14:03:21.608187Z",
     "start_time": "2024-06-19T14:03:20.903099Z"
    }
   },
   "cell_type": "code",
   "source": [
    "# show the plot of the data\n",
    "salary_data.plot()"
   ],
   "id": "6ed4a013e7c1a91c",
   "outputs": [
    {
     "data": {
      "text/plain": [
       "<Axes: >"
      ]
     },
     "execution_count": 9,
     "metadata": {},
     "output_type": "execute_result"
    },
    {
     "data": {
      "text/plain": [
       "<Figure size 640x480 with 1 Axes>"
      ],
      "image/png": "[encoded data removed]"
     },
     "metadata": {},
     "output_type": "display_data"
    }
   ],
   "execution_count": 9
  },
  {
   "metadata": {
    "ExecuteTime": {
     "end_time": "2024-06-19T14:03:23.284394Z",
     "start_time": "2024-06-19T14:03:21.613248Z"
    }
   },
   "cell_type": "code",
   "source": [
    "# show the historgram of the data\n",
    "salary_data.hist()"
   ],
   "id": "4fdaf67141b9e0d4",
   "outputs": [
    {
     "data": {
      "text/plain": [
       "array([[<Axes: title={'center': 'work_year'}>,\n",
       "        <Axes: title={'center': 'salary'}>],\n",
       "       [<Axes: title={'center': 'salary_in_usd'}>,\n",
       "        <Axes: title={'center': 'remote_ratio'}>]], dtype=object)"
      ]
     },
     "execution_count": 10,
     "metadata": {},
     "output_type": "execute_result"
    },
    {
     "data": {
      "text/plain": [
       "<Figure size 640x480 with 4 Axes>"
      ],
      "image/png": "[encoded data removed]"
     },
     "metadata": {},
     "output_type": "display_data"
    }
   ],
   "execution_count": 10
  },
  {
   "metadata": {
    "ExecuteTime": {
     "end_time": "2024-06-19T14:03:23.297667Z",
     "start_time": "2024-06-19T14:03:23.286686Z"
    }
   },
   "cell_type": "code",
   "source": [
    "# show the category of the data which has the object type\n",
    "salary_data.select_dtypes(include=['object']).columns"
   ],
   "id": "2bc8bb7f9a168801",
   "outputs": [
    {
     "data": {
      "text/plain": [
       "Index(['experience_level', 'employment_type', 'job_title', 'salary_currency',\n",
       "       'employee_residence', 'company_location', 'company_size'],\n",
       "      dtype='object')"
      ]
     },
     "execution_count": 11,
     "metadata": {},
     "output_type": "execute_result"
    }
   ],
   "execution_count": 11
  },
  {
   "metadata": {
    "ExecuteTime": {
     "end_time": "2024-06-19T14:03:23.332317Z",
     "start_time": "2024-06-19T14:03:23.299770Z"
    }
   },
   "cell_type": "code",
   "source": [
    "# show the unique values of the data experience_level field\n",
    "salary_data['experience_level'].unique()"
   ],
   "id": "1f720f913275b99",
   "outputs": [
    {
     "data": {
      "text/plain": [
       "array(['SE', 'EN', 'MI', 'EX'], dtype=object)"
      ]
     },
     "execution_count": 12,
     "metadata": {},
     "output_type": "execute_result"
    }
   ],
   "execution_count": 12
  },
  {
   "metadata": {
    "ExecuteTime": {
     "end_time": "2024-06-19T14:03:23.658246Z",
     "start_time": "2024-06-19T14:03:23.339708Z"
    }
   },
   "cell_type": "code",
   "source": [
    "# show the histogram of the data experience_level field\n",
    "salary_data['experience_level'].hist()\n",
    "# add labels to the histogram\n",
    "plt.xlabel('Experience Level')\n",
    "plt.ylabel('Frequency')\n",
    "plt.title('Experience Level Frequency')\n",
    "\n",
    "# Add value labels to the histogram\n",
    "for i in range(len(salary_data['experience_level'].unique())):\n",
    "    plt.text(i, salary_data['experience_level'].value_counts()[i], salary_data['experience_level'].value_counts()[i])\n",
    "\n",
    "# Show the histogram\n",
    "plt.show()"
   ],
   "id": "d48428628c33f529",
   "outputs": [
    {
     "data": {
      "text/plain": [
       "<Figure size 640x480 with 1 Axes>"
      ],
      "image/png": "[encoded data removed]"
     },
     "metadata": {},
     "output_type": "display_data"
    }
   ],
   "execution_count": 13
  },
  {
   "metadata": {
    "ExecuteTime": {
     "end_time": "2024-06-19T14:03:23.670962Z",
     "start_time": "2024-06-19T14:03:23.660343Z"
    }
   },
   "cell_type": "code",
   "source": [
    "# show the unique values of the data employment_type field\n",
    "salary_data['employment_type'].unique()"
   ],
   "id": "6359c866ddd1c9c5",
   "outputs": [
    {
     "data": {
      "text/plain": [
       "array(['FT', 'CT', 'PT', 'FL'], dtype=object)"
      ]
     },
     "execution_count": 14,
     "metadata": {},
     "output_type": "execute_result"
    }
   ],
   "execution_count": 14
  },
  {
   "metadata": {
    "ExecuteTime": {
     "end_time": "2024-06-19T14:03:24.027070Z",
     "start_time": "2024-06-19T14:03:23.674066Z"
    }
   },
   "cell_type": "code",
   "source": [
    "# show the histogram of the data employment_type field\n",
    "salary_data['employment_type'].hist()\n",
    "\n",
    "# add labels to the histogram\n",
    "plt.xlabel('Employment Type')\n",
    "plt.ylabel('Frequency')\n",
    "plt.title('Employment Type Frequency')\n",
    "\n",
    "# Add value labels to the histogram\n",
    "for i in range(len(salary_data['employment_type'].unique())):\n",
    "    plt.text(i, salary_data['employment_type'].value_counts()[i], salary_data['employment_type'].value_counts()[i])\n"
   ],
   "id": "dca4cf23d201059b",
   "outputs": [
    {
     "data": {
      "text/plain": [
       "<Figure size 640x480 with 1 Axes>"
      ],
      "image/png": "[encoded data removed]"
     },
     "metadata": {},
     "output_type": "display_data"
    }
   ],
   "execution_count": 15
  },
  {
   "metadata": {
    "ExecuteTime": {
     "end_time": "2024-06-19T14:03:24.044408Z",
     "start_time": "2024-06-19T14:03:24.030067Z"
    }
   },
   "cell_type": "code",
   "source": [
    "# show the frequency of the data employment_type field\n",
    "salary_data['employment_type'].value_counts()"
   ],
   "id": "8a143dd2011492db",
   "outputs": [
    {
     "data": {
      "text/plain": [
       "employment_type\n",
       "FT    8071\n",
       "CT      18\n",
       "PT      13\n",
       "FL      11\n",
       "Name: count, dtype: int64"
      ]
     },
     "execution_count": 16,
     "metadata": {},
     "output_type": "execute_result"
    }
   ],
   "execution_count": 16
  },
  {
   "metadata": {
    "ExecuteTime": {
     "end_time": "2024-06-19T14:03:24.067900Z",
     "start_time": "2024-06-19T14:03:24.050503Z"
    }
   },
   "cell_type": "code",
   "source": [
    "# show the unique values of the data job_title field\n",
    "salary_data['job_title'].unique()"
   ],
   "id": "34607f24c9b6c1ca",
   "outputs": [
    {
     "data": {
      "text/plain": [
       "array(['Data Scientist', 'Machine Learning Engineer', 'ML Engineer',\n",
       "       'Data Engineer', 'Data Analyst', 'AI Developer', 'BI Developer',\n",
       "       'Research Scientist', 'AI Programmer', 'Data Lead',\n",
       "       'Data Product Manager', 'Decision Scientist',\n",
       "       'Data Science Consultant', 'Financial Data Analyst', 'AI Engineer',\n",
       "       'Business Intelligence Engineer', 'Data Architect',\n",
       "       'Business Intelligence Analyst', 'Applied Scientist',\n",
       "       'Data Quality Analyst', 'Research Analyst',\n",
       "       'Data Science Engineer', 'Analytics Engineer',\n",
       "       'Data Strategy Manager', 'Data Manager',\n",
       "       'Machine Learning Scientist', 'Computer Vision Engineer',\n",
       "       'Data Visualization Specialist', 'Research Engineer',\n",
       "       'Data Science Manager', 'BI Analyst', 'Insight Analyst',\n",
       "       'Data Integration Specialist', 'Data Science Practitioner',\n",
       "       'Director of Data Science', 'Data Specialist',\n",
       "       'Data Visualization Engineer', 'Data Modeler', 'Head of Data',\n",
       "       'ETL Developer', 'Data Analytics Manager', 'Azure Data Engineer',\n",
       "       'Machine Learning Infrastructure Engineer', 'Data Developer',\n",
       "       'Principal Data Scientist', 'Data Science Lead',\n",
       "       'Business Data Analyst', 'Machine Learning Researcher',\n",
       "       'Staff Data Analyst', 'Data Infrastructure Engineer',\n",
       "       'Machine Learning Software Engineer',\n",
       "       'Machine Learning Operations Engineer', 'AI Scientist',\n",
       "       'AI Research Engineer', 'Head of Machine Learning',\n",
       "       'Business Intelligence Developer', 'Data Strategist',\n",
       "       'Applied Data Scientist', 'Data Operations Analyst',\n",
       "       'MLOps Engineer', 'Data Management Specialist',\n",
       "       'Applied Machine Learning Scientist', 'AI Architect',\n",
       "       'Data Analytics Lead', 'Data Operations Engineer',\n",
       "       'Machine Learning Manager', 'BI Data Analyst',\n",
       "       'Lead Data Scientist', 'Principal Machine Learning Engineer',\n",
       "       'Principal Data Engineer', 'Power BI Developer',\n",
       "       'Head of Data Science', 'Staff Machine Learning Engineer',\n",
       "       'Staff Data Scientist', 'Consultant Data Engineer',\n",
       "       'Machine Learning Specialist', 'Data Quality Engineer',\n",
       "       'Deep Learning Engineer', 'Business Intelligence Data Analyst',\n",
       "       'Data Operations Manager', 'Lead Machine Learning Engineer',\n",
       "       'Managing Director Data Science', 'Data Modeller',\n",
       "       'Finance Data Analyst', 'Software Data Engineer',\n",
       "       'Machine Learning Research Engineer', 'Compliance Data Analyst',\n",
       "       'Data Operations Specialist', 'Cloud Data Engineer',\n",
       "       'Analytics Engineering Manager', 'NLP Engineer',\n",
       "       'AWS Data Architect', 'Product Data Analyst',\n",
       "       'Machine Learning Developer', 'Data Visualization Analyst',\n",
       "       'Autonomous Vehicle Technician', 'Sales Data Analyst',\n",
       "       'Applied Machine Learning Engineer', 'ETL Engineer',\n",
       "       'Data DevOps Engineer', 'Big Data Engineer', 'Lead Data Analyst',\n",
       "       'BI Data Engineer', 'Cloud Database Engineer',\n",
       "       'Deep Learning Researcher', 'Data Analytics Specialist',\n",
       "       'Big Data Architect', 'Computer Vision Software Engineer',\n",
       "       'Marketing Data Engineer', 'Manager Data Management',\n",
       "       'Data Analytics Consultant', 'Data Science Tech Lead',\n",
       "       'Data Scientist Lead', 'Marketing Data Analyst',\n",
       "       'Principal Data Architect', 'Data Analytics Engineer',\n",
       "       'Cloud Data Architect', 'Lead Data Engineer',\n",
       "       'Principal Data Analyst'], dtype=object)"
      ]
     },
     "execution_count": 17,
     "metadata": {},
     "output_type": "execute_result"
    }
   ],
   "execution_count": 17
  },
  {
   "metadata": {
    "ExecuteTime": {
     "end_time": "2024-06-19T14:03:24.084449Z",
     "start_time": "2024-06-19T14:03:24.070Z"
    }
   },
   "cell_type": "code",
   "source": [
    "# show the frequency of the data job_title field\n",
    "salary_data['job_title'].value_counts()"
   ],
   "id": "5c67760fb1bb24fb",
   "outputs": [
    {
     "data": {
      "text/plain": [
       "job_title\n",
       "Data Engineer                      1926\n",
       "Data Scientist                     1706\n",
       "Data Analyst                       1212\n",
       "Machine Learning Engineer           829\n",
       "Applied Scientist                   230\n",
       "                                   ... \n",
       "Consultant Data Engineer              1\n",
       "Analytics Engineering Manager         1\n",
       "Deep Learning Researcher              1\n",
       "Staff Machine Learning Engineer       1\n",
       "Managing Director Data Science        1\n",
       "Name: count, Length: 119, dtype: int64"
      ]
     },
     "execution_count": 18,
     "metadata": {},
     "output_type": "execute_result"
    }
   ],
   "execution_count": 18
  },
  {
   "metadata": {
    "ExecuteTime": {
     "end_time": "2024-06-19T14:03:24.092932Z",
     "start_time": "2024-06-19T14:03:24.087552Z"
    }
   },
   "cell_type": "code",
   "source": "# It is pointless to show the histogram of the job_title field as it has too many unique values",
   "id": "ec2a56e5a7d1961b",
   "outputs": [],
   "execution_count": 19
  },
  {
   "metadata": {
    "ExecuteTime": {
     "end_time": "2024-06-19T14:03:24.106672Z",
     "start_time": "2024-06-19T14:03:24.097041Z"
    }
   },
   "cell_type": "code",
   "source": [
    "# Show the unique values of the data salary_currency field\n",
    "salary_data['salary_currency'].unique()"
   ],
   "id": "96ffd9adf5a554c2",
   "outputs": [
    {
     "data": {
      "text/plain": [
       "array(['USD', 'EUR', 'INR', 'GBP', 'CAD', 'PLN', 'BRL', 'PHP', 'TRY',\n",
       "       'CHF', 'AUD', 'NOK', 'JPY', 'ZAR', 'HKD', 'SGD', 'ILS', 'THB',\n",
       "       'HUF', 'DKK', 'MXN', 'CLP'], dtype=object)"
      ]
     },
     "execution_count": 20,
     "metadata": {},
     "output_type": "execute_result"
    }
   ],
   "execution_count": 20
  },
  {
   "metadata": {
    "ExecuteTime": {
     "end_time": "2024-06-19T14:03:24.120174Z",
     "start_time": "2024-06-19T14:03:24.108766Z"
    }
   },
   "cell_type": "code",
   "source": [
    "# Show the frequency of the data salary_currency field\n",
    "salary_data['salary_currency'].value_counts()"
   ],
   "id": "42d3d27c8cca09a3",
   "outputs": [
    {
     "data": {
      "text/plain": [
       "salary_currency\n",
       "USD    7342\n",
       "EUR     325\n",
       "GBP     304\n",
       "INR      51\n",
       "CAD      36\n",
       "AUD      10\n",
       "PLN       7\n",
       "SGD       6\n",
       "CHF       5\n",
       "BRL       4\n",
       "JPY       4\n",
       "DKK       3\n",
       "TRY       3\n",
       "HUF       3\n",
       "THB       2\n",
       "NOK       2\n",
       "ILS       1\n",
       "HKD       1\n",
       "ZAR       1\n",
       "PHP       1\n",
       "MXN       1\n",
       "CLP       1\n",
       "Name: count, dtype: int64"
      ]
     },
     "execution_count": 21,
     "metadata": {},
     "output_type": "execute_result"
    }
   ],
   "execution_count": 21
  },
  {
   "metadata": {
    "ExecuteTime": {
     "end_time": "2024-06-19T14:03:24.737407Z",
     "start_time": "2024-06-19T14:03:24.122276Z"
    }
   },
   "cell_type": "code",
   "source": [
    "# show the histogram of the data salary_currency field\n",
    "salary_data['salary_currency'].hist()\n",
    "\n",
    "# add labels to the histogram\n",
    "plt.xlabel('Salary Currency')\n",
    "plt.ylabel('Frequency')\n",
    "plt.title('Salary Currency Frequency')\n",
    "\n",
    "# Make the histogram more readable\n",
    "plt.xticks(rotation=45)\n",
    "\n",
    "# add space between the labels\n",
    "plt.tight_layout()"
   ],
   "id": "7652c0fe62360405",
   "outputs": [
    {
     "data": {
      "text/plain": [
       "<Figure size 640x480 with 1 Axes>"
      ],
      "image/png": "[encoded data removed]"
     },
     "metadata": {},
     "output_type": "display_data"
    }
   ],
   "execution_count": 22
  },
  {
   "metadata": {
    "ExecuteTime": {
     "end_time": "2024-06-19T14:03:24.753185Z",
     "start_time": "2024-06-19T14:03:24.741685Z"
    }
   },
   "cell_type": "code",
   "source": [
    "# show the unique values of the field employee_residence field\n",
    "salary_data['employee_residence'].unique()"
   ],
   "id": "f4101b53fae1f6f4",
   "outputs": [
    {
     "data": {
      "text/plain": [
       "array(['US', 'CO', 'UA', 'IT', 'SI', 'IN', 'GB', 'RO', 'ES', 'CA', 'GR',\n",
       "       'PT', 'FR', 'NL', 'LV', 'MU', 'DE', 'PL', 'AM', 'HR', 'TH', 'KR',\n",
       "       'EE', 'TR', 'PH', 'BR', 'QA', 'RU', 'KE', 'TN', 'GH', 'AU', 'BE',\n",
       "       'CH', 'AD', 'EC', 'PE', 'MX', 'MD', 'NG', 'SA', 'NO', 'AR', 'EG',\n",
       "       'UZ', 'GE', 'JP', 'ZA', 'HK', 'CF', 'FI', 'IE', 'IL', 'AT', 'SG',\n",
       "       'SE', 'KW', 'CY', 'BA', 'PK', 'LT', 'IR', 'AS', 'HU', 'CN', 'CR',\n",
       "       'CL', 'PR', 'DK', 'BO', 'DO', 'ID', 'AE', 'MY', 'HN', 'CZ', 'DZ',\n",
       "       'VN', 'IQ', 'BG', 'JE', 'RS', 'NZ', 'LU', 'MT'], dtype=object)"
      ]
     },
     "execution_count": 23,
     "metadata": {},
     "output_type": "execute_result"
    }
   ],
   "execution_count": 23
  },
  {
   "metadata": {
    "ExecuteTime": {
     "end_time": "2024-06-19T14:03:24.774805Z",
     "start_time": "2024-06-19T14:03:24.756295Z"
    }
   },
   "cell_type": "code",
   "source": [
    "# show the frequency of the field employee_residence field\n",
    "salary_data['employee_residence'].value_counts()"
   ],
   "id": "d913df4dad694be3",
   "outputs": [
    {
     "data": {
      "text/plain": [
       "employee_residence\n",
       "US    6893\n",
       "GB     396\n",
       "CA     180\n",
       "ES     111\n",
       "IN      65\n",
       "      ... \n",
       "IR       1\n",
       "PE       1\n",
       "BA       1\n",
       "CY       1\n",
       "MT       1\n",
       "Name: count, Length: 85, dtype: int64"
      ]
     },
     "execution_count": 24,
     "metadata": {},
     "output_type": "execute_result"
    }
   ],
   "execution_count": 24
  },
  {
   "metadata": {
    "ExecuteTime": {
     "end_time": "2024-06-19T14:03:24.789517Z",
     "start_time": "2024-06-19T14:03:24.778914Z"
    }
   },
   "cell_type": "code",
   "source": "# Due to the large number of unique values, it is pointless to show the histogram of the employee_residence field",
   "id": "a4a703daea276cbf",
   "outputs": [],
   "execution_count": 25
  },
  {
   "metadata": {
    "ExecuteTime": {
     "end_time": "2024-06-19T14:03:24.802915Z",
     "start_time": "2024-06-19T14:03:24.793890Z"
    }
   },
   "cell_type": "code",
   "source": [
    "# Show the unique values of the field company_location field\n",
    "salary_data['company_location'].unique()"
   ],
   "id": "8a224737682e5620",
   "outputs": [
    {
     "data": {
      "text/plain": [
       "array(['US', 'CO', 'UA', 'SI', 'IN', 'GB', 'RO', 'ES', 'CA', 'GR', 'PT',\n",
       "       'FR', 'NL', 'LV', 'MU', 'DE', 'PL', 'RU', 'IT', 'KR', 'EE', 'CZ',\n",
       "       'CH', 'BR', 'QA', 'KE', 'DK', 'GH', 'SE', 'PH', 'AU', 'TR', 'AD',\n",
       "       'EC', 'MX', 'IL', 'NG', 'SA', 'NO', 'AR', 'JP', 'ZA', 'HK', 'CF',\n",
       "       'FI', 'IE', 'SG', 'TH', 'HR', 'AM', 'BA', 'PK', 'LT', 'IR', 'BS',\n",
       "       'HU', 'AT', 'PR', 'AS', 'BE', 'ID', 'EG', 'AE', 'MY', 'HN', 'DZ',\n",
       "       'IQ', 'CN', 'NZ', 'CL', 'MD', 'LU', 'MT'], dtype=object)"
      ]
     },
     "execution_count": 26,
     "metadata": {},
     "output_type": "execute_result"
    }
   ],
   "execution_count": 26
  },
  {
   "metadata": {
    "ExecuteTime": {
     "end_time": "2024-06-19T14:03:24.818138Z",
     "start_time": "2024-06-19T14:03:24.806021Z"
    }
   },
   "cell_type": "code",
   "source": [
    "# Show the frequency of the field company_location field\n",
    "salary_data['company_location'].value_counts()   "
   ],
   "id": "689b2f411ffd6f16",
   "outputs": [
    {
     "data": {
      "text/plain": [
       "company_location\n",
       "US    6941\n",
       "GB     403\n",
       "CA     181\n",
       "ES     108\n",
       "DE      72\n",
       "      ... \n",
       "EC       1\n",
       "AD       1\n",
       "BS       1\n",
       "IR       1\n",
       "MT       1\n",
       "Name: count, Length: 73, dtype: int64"
      ]
     },
     "execution_count": 27,
     "metadata": {},
     "output_type": "execute_result"
    }
   ],
   "execution_count": 27
  },
  {
   "metadata": {
    "ExecuteTime": {
     "end_time": "2024-06-19T14:03:24.825927Z",
     "start_time": "2024-06-19T14:03:24.821226Z"
    }
   },
   "cell_type": "code",
   "source": [
    "# Due to the large number of unique values, it is pointless to show the histogram of the company_location field\n",
    "# Commented by: Savan Patel"
   ],
   "id": "7369ee91916e8e7",
   "outputs": [],
   "execution_count": 28
  },
  {
   "metadata": {
    "ExecuteTime": {
     "end_time": "2024-06-19T14:03:24.842747Z",
     "start_time": "2024-06-19T14:03:24.829215Z"
    }
   },
   "cell_type": "code",
   "source": [
    "# Show the unique values of the field company_size field\n",
    "salary_data['company_size'].unique()"
   ],
   "id": "4fe979a7e49e4303",
   "outputs": [
    {
     "data": {
      "text/plain": [
       "array(['M', 'L', 'S'], dtype=object)"
      ]
     },
     "execution_count": 29,
     "metadata": {},
     "output_type": "execute_result"
    }
   ],
   "execution_count": 29
  },
  {
   "metadata": {
    "ExecuteTime": {
     "end_time": "2024-06-19T14:03:24.859179Z",
     "start_time": "2024-06-19T14:03:24.844847Z"
    }
   },
   "cell_type": "code",
   "source": [
    "# Show the frequency of the field company_size field\n",
    "salary_data['company_size'].value_counts()"
   ],
   "id": "b64dc9af06348eab",
   "outputs": [
    {
     "data": {
      "text/plain": [
       "company_size\n",
       "M    7238\n",
       "L     708\n",
       "S     167\n",
       "Name: count, dtype: int64"
      ]
     },
     "execution_count": 30,
     "metadata": {},
     "output_type": "execute_result"
    }
   ],
   "execution_count": 30
  },
  {
   "metadata": {
    "ExecuteTime": {
     "end_time": "2024-06-19T14:03:25.282136Z",
     "start_time": "2024-06-19T14:03:24.862539Z"
    }
   },
   "cell_type": "code",
   "source": [
    "# show the histogram of the data company_size field\n",
    "salary_data['company_size'].hist()\n",
    "\n",
    "# add labels to the histogram\n",
    "plt.xlabel('Company Size')\n",
    "plt.ylabel('Frequency')\n",
    "plt.title('Company Size Frequency')\n",
    "\n",
    "# Add value labels to the histogram\n",
    "for i in range(len(salary_data['company_size'].unique())):\n",
    "    plt.text(i, salary_data['company_size'].value_counts()[i], salary_data['company_size'].value_counts()[i])"
   ],
   "id": "a1fe9f9d32c4ffc3",
   "outputs": [
    {
     "data": {
      "text/plain": [
       "<Figure size 640x480 with 1 Axes>"
      ],
      "image/png": "[encoded data removed]"
     },
     "metadata": {},
     "output_type": "display_data"
    }
   ],
   "execution_count": 31
  },
  {
   "metadata": {
    "ExecuteTime": {
     "end_time": "2024-06-19T14:03:25.290705Z",
     "start_time": "2024-06-19T14:03:25.285274Z"
    }
   },
   "cell_type": "code",
   "source": "",
   "id": "edb637bab7b4e96f",
   "outputs": [],
   "execution_count": 31
  },
  {
   "metadata": {},
   "cell_type": "markdown",
   "source": [
    "# Conclusion\n",
    "## Author: Savan Patel\n",
    "## Description of the data\n",
    "- The dataset contains 11 columns and 8113 rows.\n",
    "- The dataset contains columns such as job_title, company_location, company_size, experience_level, employment_type, salary_currency, employee_residence, salary, and salary_frequency.\n",
    "- The columns such as job_title, company_location, company_size, experience_level, employment_type, salary_currency, and employee_residence are of object type.\n",
    "- The column work_year is of int64 type, but it should be datetime type, since it contains the year of the data.\n",
    "- The column salary and salary_in_usd provides the salary of the employees in different currencies and provide reference to the salary in USD. So it will make it easier to compare the salaries of the employees.\n",
    "\n",
    "## Data Cleaning\n",
    "- The data does not have any missing values, so there is no need to fill the missing values.\n",
    "\n",
    "## How did the data behave?\n",
    "- The data behaved as expected, since there are no null or missing values in the data. The data provides a clear picture of the salary of the employees based on different factors such as job title, company location, company size, experience level, employment type, salary currency, and employee residence.\n",
    "- The data is ready to used for the machine learning model. The model can be used to predict the salary of the employees based on the different factors provided in the data. The model can be used to predict the salary of the employees based on the job title, company location, company size, experience level, employment type, salary currency, and employee residence. The model can be created to what to pay a new employee based on the different factors provided in the data."
   ],
   "id": "9e68c18abf94bcb7"
  },
  {
   "metadata": {
    "ExecuteTime": {
     "end_time": "2024-06-19T14:03:25.298019Z",
     "start_time": "2024-06-19T14:03:25.293725Z"
    }
   },
   "cell_type": "code",
   "source": "",
   "id": "b746798814fe792c",
   "outputs": [],
   "execution_count": 31
  }
 ],
 "metadata": {
  "kernelspec": {
   "display_name": "Python 3",
   "language": "python",
   "name": "python3"
  },
  "language_info": {
   "codemirror_mode": {
    "name": "ipython",
    "version": 2
   },
   "file_extension": ".py",
   "mimetype": "text/x-python",
   "name": "python",
   "nbconvert_exporter": "python",
   "pygments_lexer": "ipython2",
   "version": "2.7.6"
  }
 },
 "nbformat": 4,
 "nbformat_minor": 5
}
